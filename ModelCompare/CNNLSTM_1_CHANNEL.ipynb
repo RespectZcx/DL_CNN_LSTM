{
 "cells": [
  {
   "cell_type": "code",
   "execution_count": 1,
   "metadata": {},
   "outputs": [
    {
     "name": "stderr",
     "output_type": "stream",
     "text": [
      "/Users/michael.zhang/anaconda3/lib/python3.6/site-packages/h5py/__init__.py:36: FutureWarning: Conversion of the second argument of issubdtype from `float` to `np.floating` is deprecated. In future, it will be treated as `np.float64 == np.dtype(float).type`.\n",
      "  from ._conv import register_converters as _register_converters\n",
      "Using TensorFlow backend.\n",
      "/Users/michael.zhang/anaconda3/lib/python3.6/site-packages/sklearn/cross_validation.py:41: DeprecationWarning: This module was deprecated in version 0.18 in favor of the model_selection module into which all the refactored classes and functions are moved. Also note that the interface of the new CV iterators are different from that of this module. This module will be removed in 0.20.\n",
      "  \"This module will be removed in 0.20.\", DeprecationWarning)\n",
      "/Users/michael.zhang/anaconda3/lib/python3.6/site-packages/sklearn/grid_search.py:42: DeprecationWarning: This module was deprecated in version 0.18 in favor of the model_selection module into which all the refactored classes and functions are moved. This module will be removed in 0.20.\n",
      "  DeprecationWarning)\n"
     ]
    }
   ],
   "source": [
    "import pandas as pd\n",
    "import numpy as np\n",
    "import six\n",
    "from six.moves import cPickle as cpik\n",
    "import tensorflow as tf\n",
    "import keras\n",
    "from keras.models import Sequential\n",
    "from keras.layers import TimeDistributed, Conv2D, MaxPooling2D, Flatten, Dropout, Dense\n",
    "from keras.layers.recurrent import LSTM,GRU\n",
    "from keras import backend as K\n",
    "from timeit import default_timer as timer\n",
    "from sklearn.grid_search import GridSearchCV\n",
    "from keras.models import Sequential\n",
    "from keras.layers import Dense\n",
    "from keras.layers import Dropout\n",
    "from keras.wrappers.scikit_learn import KerasClassifier\n",
    "from keras.constraints import maxnorm\n",
    "import six\n",
    "from six.moves import cPickle as cpik"
   ]
  },
  {
   "cell_type": "markdown",
   "metadata": {},
   "source": [
    "### 1- Functions of reading Data, accuracy measures, etc."
   ]
  },
  {
   "cell_type": "code",
   "execution_count": 2,
   "metadata": {},
   "outputs": [],
   "source": [
    "def build_dl_dataset_by_ts(df, ts):\n",
    "    '''\n",
    "    Build up a (data_size * 11 * 7 * 7 * 2) dataset for both traning and testing\n",
    "    \n",
    "    Input\n",
    "    df: a dateframe\n",
    "    ts: time_steps, use how many previous time frame to predict the next one, e.g., if it is 11, then use the\n",
    "        previous 11 date to predict current 1.\n",
    "    \n",
    "    Output\n",
    "    Training set and testing set\n",
    "    \n",
    "    '''\n",
    "    fids = df['FishnetID'].unique().tolist()\n",
    "    #print(fids)\n",
    "    X_train = []\n",
    "    Y_train = []\n",
    "    X_test = []\n",
    "    Y_test = []\n",
    "    \n",
    "    for fid in fids:\n",
    "        df_current = df[df['FishnetID'] == fid].reset_index(drop = True) #original dataset has been ordered by time.\n",
    "        df_current_len = df_current.shape[0] # overall length of current data \n",
    "        if (df_current_len - ts - 1)>0:\n",
    "            for i in range(df_current_len - ts - 1):\n",
    "                # current slice of input data\n",
    "                X_train_cur = []\n",
    "                Y_train_cur = []\n",
    "                # append every X by time steps\n",
    "                for x_v in df_current['neighbours_index_image'].iloc[i : (i+ts)].values:\n",
    "                    X_train_cur.append(x_v)\n",
    "                    #print(np.array(X_cur).shape)    \n",
    "                X_train.append(np.array(X_train_cur))  \n",
    "                # append very Y by time steps\n",
    "                for y_v in df_current['PerformanceTarget'].iloc[i+1 : (i+ts+1)].values:\n",
    "                    Y_train_cur.append(y_v)\n",
    "                Y_train.append(np.array(Y_train_cur))\n",
    "            \n",
    "            for i in range(df_current_len - ts - 1, df_current_len - ts):\n",
    "                # current slice of input data\n",
    "                X_test_cur = []\n",
    "                Y_test_cur = []\n",
    "                # append every X by time steps\n",
    "                for x_v in df_current['neighbours_index_image'].iloc[i : (i+ts)].values:\n",
    "                    X_test_cur.append(x_v)\n",
    "                    #print(np.array(X_cur).shape)\n",
    "                X_test.append(np.array(X_test_cur))  \n",
    "                # append very Y by time steps\n",
    "                for y_v in df_current['PerformanceTarget'].iloc[i+1 : ].values:\n",
    "                    Y_test_cur.append(y_v)\n",
    "                Y_test.append(np.array(Y_test_cur))\n",
    "        else:\n",
    "            for i in range(df_current_len - ts):\n",
    "                # current slice of input data\n",
    "                X_cur = []\n",
    "                Y_cur = []\n",
    "                # append every X by time steps\n",
    "                for x_v in df_current['neighbours_index_image'].iloc[i : (i+ts)].values:\n",
    "                    X_cur.append(x_v)\n",
    "                    #print(np.array(X_cur).shape)    \n",
    "                X_train.append(np.array(X_cur))\n",
    "                X_test.append(np.array(X_cur))  \n",
    "                # append very Y by time steps\n",
    "                for y_v in df_current['PerformanceTarget'].iloc[i+1 : (i+ts+1)].values:\n",
    "                    Y_cur.append(y_v)\n",
    "                Y_train.append(np.array(Y_cur))\n",
    "                Y_test.append(np.array(Y_cur))      \n",
    "    return (X_train, Y_train, X_test, Y_test)\n",
    "\n",
    "\n",
    "\n",
    "\n",
    "#MAPE loss function self defined for keras\n",
    "def mape_loss(y_true, y_pred):\n",
    "    diff = K.abs((y_true - y_pred) / K.clip(K.abs(y_true),\n",
    "                                            K.epsilon(),\n",
    "                                            None))\n",
    "    return 100. * K.mean(diff, axis=-1)\n",
    "\n",
    "\n",
    "# MAPE loss for calculate test result.\n",
    "def mape(y_p, y):\n",
    "    y[y == 0] = 0.00001\n",
    "    diff = np.abs((y_p - y) / y)\n",
    "    #print(diff)\n",
    "    return 100. * np.mean(diff)\n",
    "\n",
    "\n",
    "\n",
    "# RMSE loss for calculate test result.\n",
    "def rmse(y_p, y):\n",
    "    diff = np.sqrt((y_p - y)**2)# np.sum()\n",
    "    return np.mean(diff)\n",
    "\n",
    "\n",
    "def moving_avg(df, ts):\n",
    "    '''\n",
    "    Build up moving average model\n",
    "    \n",
    "    Input\n",
    "    df: a dateframe\n",
    "    ts: time_steps, use how many previous time frame to predict the next one, e.g., if it is 11, then use the\n",
    "        previous 11 date to predict current 1.\n",
    "    \n",
    "    Output\n",
    "    Error of MAPE and RMSE\n",
    "    \n",
    "    '''\n",
    "    fids = df['FishnetID'].unique().tolist()\n",
    "    #print(fids)\n",
    "    X_train = []\n",
    "    Y_train = []\n",
    "    X_test = []\n",
    "    Y_test = []\n",
    "    \n",
    "    for fid in fids:\n",
    "        df_current = df[df['FishnetID'] == fid].reset_index(drop = True) #original dataset has been ordered by time.\n",
    "        df_current_len = df_current.shape[0] # overall length of current data \n",
    "        if (df_current_len - ts - 1)>0:\n",
    "            for i in range(df_current_len - ts - 1):\n",
    "                # current slice of input data\n",
    "                X_train_cur = []\n",
    "                Y_train_cur = []\n",
    "                # append every X by time steps\n",
    "                for x_v in df_current['PerformanceTarget'].iloc[i : (i+ts)].values:\n",
    "                    X_train_cur.append(x_v)\n",
    "                    #print(np.array(X_cur).shape)\n",
    "                #print(X_train_cur)\n",
    "                X_train.append(np.array(np.mean(X_train_cur)))  \n",
    "                # append very Y by time steps\n",
    "                for y_v in df_current['PerformanceTarget'].iloc[i+1 : (i+ts+1)].values:\n",
    "                    Y_train_cur.append(y_v)\n",
    "                #print('Ytrain:  ', Y_train_cur)\n",
    "                Y_train.append(np.array(Y_train_cur[-1]))\n",
    "            \n",
    "            for i in range(df_current_len - ts - 1, df_current_len - ts):\n",
    "                # current slice of input data\n",
    "                X_test_cur = []\n",
    "                Y_test_cur = []\n",
    "                # append every X by time steps\n",
    "                for x_v in df_current['PerformanceTarget'].iloc[i : (i+ts)].values:\n",
    "                    X_test_cur.append(x_v)\n",
    "                    #print(np.array(X_cur).shape)\n",
    "                X_test.append(np.array(np.mean(X_test_cur)))  \n",
    "                # append very Y by time steps\n",
    "                for y_v in df_current['PerformanceTarget'].iloc[i+1 : ].values:\n",
    "                    Y_test_cur.append(y_v)\n",
    "                Y_test.append(np.array(Y_test_cur[-1]))\n",
    "        else:\n",
    "            for i in range(df_current_len - ts):\n",
    "                # current slice of input data\n",
    "                X_cur = []\n",
    "                Y_cur = []\n",
    "                # append every X by time steps\n",
    "                for x_v in df_current['PerformanceTarget'].iloc[i : (i+ts)].values:\n",
    "                    X_cur.append(x_v)\n",
    "                    #print(np.array(X_cur).shape)    \n",
    "                X_train.append(np.array(X_cur))\n",
    "                X_test.append(np.array(X_cur))  \n",
    "                # append very Y by time steps\n",
    "                for y_v in df_current['PerformanceTarget'].iloc[i+1 : (i+ts+1)].values:\n",
    "                    Y_cur.append(y_v)\n",
    "                Y_train.append(np.array(Y_cur[-1]))\n",
    "                Y_test.append(np.array(Y_cur[-1]))      \n",
    "    \n",
    "    \n",
    "    X_train = np.nan_to_num(np.array(X_train))\n",
    "    Y_train = np.nan_to_num(np.array(Y_train))\n",
    "    X_test = np.nan_to_num(np.array(X_test))\n",
    "    Y_test = np.nan_to_num(np.array(Y_test))\n",
    "    #print(X_train.shape,Y_train.shape,X_test.shape,Y_test.shape)\n",
    "    #print((X_train - Y_train).shape)\n",
    "    traing_error_mape = mape(X_train, Y_train)\n",
    "    testing_error_mape = mape(X_test, Y_test)\n",
    "    \n",
    "    traing_error_rmse = rmse(X_train, Y_train)\n",
    "    testing_error_rmse = rmse(X_test, Y_test)\n",
    "    \n",
    "    return (traing_error_mape, testing_error_mape, traing_error_rmse, testing_error_rmse)\n"
   ]
  },
  {
   "cell_type": "code",
   "execution_count": 3,
   "metadata": {},
   "outputs": [],
   "source": [
    "# def CNN_LSTM_MODEL_RMSprop\n",
    "def cnn_on_lstm_rms_model(CONV2D_1_DEPTH, CONV2D_2_DEPTH, CNN_DP, #CNN archi related\n",
    "                          LSTM_DP, LSTM_UNITS, #LSTM archi related# RMSprop related\n",
    "                          inputshapes, loss_fnc):\n",
    "    model = Sequential()\n",
    "    # add two time-distributed convolutional layers for feature extraction\n",
    "    model.add(TimeDistributed(Conv2D(CONV2D_1_DEPTH, (3, 3), activation='relu'), input_shape = inputshapes))\n",
    "    #model.add(TimeDistributed(Conv2D(16, (4, 4), activation='relu')))\n",
    "    model.add(TimeDistributed(Conv2D(CONV2D_2_DEPTH, (5, 5), activation='relu')))\n",
    "\n",
    "\n",
    "    # extract features and dropout \n",
    "    model.add(TimeDistributed(Flatten()))\n",
    "    model.add(Dropout(CNN_DP))\n",
    "    #print(123123123)\n",
    "    # input to LSTM\n",
    "    model.add(LSTM(LSTM_UNITS, return_sequences=True, dropout=LSTM_DP)) #input_shape=(5, 512), \n",
    "    #print(123123123)\n",
    "    # classifier with sigmoid activation for multilabel\n",
    "    model.add(Dense(1, activation='tanh'))\n",
    "    #model.add(TimeDistributed(Dense(1, activation='tanh')))\n",
    "\n",
    "    # compile the model with binary_crossentropy loss for multilabel\n",
    "    #Rmsprop = keras.optimizers.RMSprop(lr=RMSprop_LR, rho=RMSprop_RHO, \n",
    "    #                                   epsilon=None, decay=RMSprop_DECAY)\n",
    "    #model.compile(optimizer= Rmsprop, loss = loss_fnc)\n",
    "    #keras.optimizers.RMSprop(lr=0.001, rho=0.9, epsilon=None, decay=0.0)\n",
    "    model.compile(optimizer= 'rmsprop', loss = mape_loss)\n",
    "    # look at the params before training\n",
    "    #model.summary()\n",
    "    return model"
   ]
  },
  {
   "cell_type": "code",
   "execution_count": 4,
   "metadata": {},
   "outputs": [],
   "source": [
    "def get_performance(num_interates, X_train, Y_train, X_test, Y_test):\n",
    "    \n",
    "    inputshapes = X_train.shape[1:]\n",
    "    cnnlstm_train_mape = []\n",
    "    cnnlstm_test_mape = []\n",
    "    cnnlstm_train_rmse= []\n",
    "    cnnlstm_test_rmse =[]\n",
    "    \n",
    "    cnnlstm_train_error_85 = []\n",
    "    cnnlstm_test_error_85 = []\n",
    "    \n",
    "    for i in range(num_interates):\n",
    "        cnnlstm = cnn_on_lstm_rms_model(64, 64, 0.1, 0.1, 64, inputshapes, mape_loss)\n",
    "        cnnlstm.fit(X_train, Y_train, batch_size = 64,epochs=50,verbose=0) #\n",
    "        \n",
    "        # prediction\n",
    "        Y_train_pred = cnnlstm.predict(X_train)\n",
    "        Y_test_pred = cnnlstm.predict(X_test)\n",
    "        \n",
    "        Y_train_pred = Y_train_pred[:,-1,:].flatten()\n",
    "        Y_train_true = Y_train[:,-1,:].flatten()\n",
    "        Y_test_pred = Y_test_pred[:,-1,:].flatten()\n",
    "        Y_test_true = Y_test[:,-1,:].flatten()\n",
    "        \n",
    "        # mape train\n",
    "        cnnlstm_train_mape.append(mape(Y_train_pred, Y_train_true))\n",
    "        # mape test\n",
    "        cnnlstm_test_mape.append(mape(Y_test_pred, Y_test_true))\n",
    "        # rmse train\n",
    "        cnnlstm_train_rmse.append(rmse(Y_train_pred, Y_train_true))\n",
    "        # rmse test\n",
    "        cnnlstm_test_rmse.append(rmse(Y_test_pred, Y_test_true)) \n",
    "        \n",
    "        cnnlstm_train_error_85.append(Y_train_pred[Y_train_true<0.85] - Y_train_true[Y_train_true<0.85])\n",
    "        cnnlstm_test_error_85.append(Y_test_true[Y_test_true<0.85] - Y_test_true[Y_test_true<0.85])\n",
    "    \n",
    "        if i%10 ==0:\n",
    "            print('Finished {} times'.format(i))\n",
    "    \n",
    "    return(cnnlstm_train_mape, cnnlstm_test_mape, cnnlstm_train_rmse, \n",
    "           cnnlstm_test_rmse, cnnlstm_train_error_85, cnnlstm_test_error_85)"
   ]
  },
  {
   "cell_type": "code",
   "execution_count": 5,
   "metadata": {},
   "outputs": [],
   "source": [
    "#global vars time step\n",
    "ts = 3"
   ]
  },
  {
   "cell_type": "markdown",
   "metadata": {},
   "source": [
    "##  1- Hospitilaty\n",
    "\n",
    "   ### (3, 64, 64, 0.1, 0.1, 16)"
   ]
  },
  {
   "cell_type": "code",
   "execution_count": 121,
   "metadata": {},
   "outputs": [
    {
     "name": "stdout",
     "output_type": "stream",
     "text": [
      "(4459,) (7, 7, 2)\n"
     ]
    }
   ],
   "source": [
    "hos_df = pd.read_csv('3_hospitality_13months.csv').iloc[:, 1:8]\n",
    "\n",
    "neighbours_index_image_arys = cpik.load(open(\"3_hospitality_13months.pkl\", \"rb\" ))\n",
    "hos_df['neighbours_index_image'] = neighbours_index_image_arys.tolist()\n",
    "hos_df['neighbours_index_image'] = hos_df['neighbours_index_image'].apply(lambda x : np.array(x))\n",
    "print(hos_df['neighbours_index_image'].shape, hos_df['neighbours_index_image'].iloc[0].shape)\n",
    "ts = 3"
   ]
  },
  {
   "cell_type": "code",
   "execution_count": 124,
   "metadata": {},
   "outputs": [],
   "source": [
    "# Build up dateset\n",
    "X_train_hos, Y_train_hos, X_test_hos, Y_test_hos= build_dl_dataset_by_ts(hos_df, ts)\n",
    "X_train_hos = np.array(X_train_hos)\n",
    "X_train_hos= np.nan_to_num(X_train_hos)\n",
    "\n",
    "Y_train_hos = np.array(Y_train_hos)\n",
    "Y_train_hos = Y_train_hos.reshape(Y_train_hos.shape[0],Y_train_hos.shape[1],1)\n",
    "Y_train_hos= np.nan_to_num(Y_train_hos)\n",
    "\n",
    "\n",
    "X_test_hos = np.array(X_test_hos)\n",
    "X_test_hos= np.nan_to_num(X_test_hos)\n",
    "\n",
    "Y_test_hos = np.array(Y_test_hos)\n",
    "Y_test_hos = Y_test_hos.reshape(Y_test_hos.shape[0],Y_test_hos.shape[1],1)\n",
    "Y_test_hos= np.nan_to_num(Y_test_hos)"
   ]
  },
  {
   "cell_type": "code",
   "execution_count": 125,
   "metadata": {},
   "outputs": [
    {
     "name": "stdout",
     "output_type": "stream",
     "text": [
      "(3087, 3, 7, 7, 2) (3087, 3, 1) (343, 3, 7, 7, 2) (343, 3, 1)\n"
     ]
    }
   ],
   "source": [
    "print(X_train_hos.shape, Y_train_hos.shape, X_test_hos.shape, Y_test_hos.shape)"
   ]
  },
  {
   "cell_type": "code",
   "execution_count": 126,
   "metadata": {},
   "outputs": [],
   "source": [
    "X_train_hos = X_train_hos[:,:,:,:,0].reshape(3087, 3, 7, 7, 1)\n",
    "X_test_hos = X_test_hos[:,:,:,:,0].reshape(343, 3, 7, 7,1)"
   ]
  },
  {
   "cell_type": "code",
   "execution_count": 127,
   "metadata": {},
   "outputs": [
    {
     "name": "stdout",
     "output_type": "stream",
     "text": [
      "(3087, 3, 7, 7, 1) (3087, 3, 1) (343, 3, 7, 7, 1) (343, 3, 1)\n"
     ]
    }
   ],
   "source": [
    "print(X_train_hos.shape, Y_train_hos.shape, X_test_hos.shape, Y_test_hos.shape)"
   ]
  },
  {
   "cell_type": "code",
   "execution_count": 50,
   "metadata": {},
   "outputs": [],
   "source": [
    "inputshapes = X_train.shape[1:]\n",
    "cnnlstm = cnn_on_lstm_rms_model(64, 64, 0.1, 0.1, 64, inputshapes, mape_loss)\n",
    "cnnlstm.fit(X_train_hos, Y_train_hos, batch_size = 64,epochs=50,verbose=0) #\n",
    "\n",
    "Y_train_hos_pred = cnnlstm.predict(X_train_hos)\n",
    "Y_test_hos_pred = cnnlstm.predict(X_test_hos)\n",
    "\n",
    "Y_train_hos_pred = Y_train_hos_pred[:,-1,:].flatten()\n",
    "Y_train_hos_true = Y_train_hos[:,-1,:].flatten()\n",
    "Y_test_hos_pred = Y_test_hos_pred[:,-1,:].flatten()\n",
    "Y_test_hos_true = Y_test_hos[:,-1,:].flatten()\n",
    "\n",
    "# mape train\n",
    "hos_train_mape = mape(Y_train_hos_pred, Y_train_hos_true)\n",
    "\n",
    "# mape test\n",
    "hos_test_mape = mape(Y_test_hos_pred, Y_test_hos_true)\n",
    "\n",
    "\n",
    "# rmse train\n",
    "hos_train_rmse = rmse(Y_train_hos_pred, Y_train_hos_true)\n",
    "\n",
    "# rmse test\n",
    "hos_test_rmse = rmse(Y_test_hos_pred, Y_test_hos_true)"
   ]
  },
  {
   "cell_type": "code",
   "execution_count": 51,
   "metadata": {},
   "outputs": [
    {
     "data": {
      "text/plain": [
       "(3.0169203202917574,\n",
       " 6.190152465428925,\n",
       " 0.02292676258583767,\n",
       " 0.03423888835100669)"
      ]
     },
     "execution_count": 51,
     "metadata": {},
     "output_type": "execute_result"
    }
   ],
   "source": [
    "hos_train_mape, hos_test_mape, hos_train_rmse, hos_test_rmse"
   ]
  },
  {
   "cell_type": "code",
   "execution_count": 167,
   "metadata": {},
   "outputs": [
    {
     "name": "stdout",
     "output_type": "stream",
     "text": [
      "Finished 0 times\n",
      "Finished 10 times\n"
     ]
    }
   ],
   "source": [
    "hos_train_mape, hos_test_mape, hos_train_rmse, \\\n",
    "hos_test_rmse, hos_train_error85, hos_test_error85 = \\\n",
    "get_performance(20, X_train_hos, Y_train_hos, X_test_hos, Y_test_hos)"
   ]
  },
  {
   "cell_type": "code",
   "execution_count": 197,
   "metadata": {},
   "outputs": [
    {
     "name": "stdout",
     "output_type": "stream",
     "text": [
      "2.9935190034481702\n"
     ]
    },
    {
     "data": {
      "image/png": "[encoded data removed]",
      "text/plain": [
       "<matplotlib.figure.Figure at 0x1bfd9e0390>"
      ]
     },
     "metadata": {},
     "output_type": "display_data"
    },
    {
     "data": {
      "text/plain": [
       "DescribeResult(nobs=20, minmax=(2.449962889135644, 4.252054857053119), mean=2.9935190034481702, variance=0.2699242529734223, skewness=0.8814005927645971, kurtosis=-0.21756520379046496)"
      ]
     },
     "execution_count": 197,
     "metadata": {},
     "output_type": "execute_result"
    }
   ],
   "source": [
    "from matplotlib import pyplot as plt\n",
    "from scipy import stats\n",
    "#hos_train_mape_new = [hos_train_mape[i] for i in range(0,len(hos_train_mape),4)]\n",
    "print(np.mean(hos_train_mape))\n",
    "plt.hist(np.array(hos_train_mape), bins='auto')\n",
    "plt.show()\n",
    "stats.describe(hos_train_mape)"
   ]
  },
  {
   "cell_type": "code",
   "execution_count": 169,
   "metadata": {},
   "outputs": [
    {
     "name": "stdout",
     "output_type": "stream",
     "text": [
      "0.022886496628077048\n"
     ]
    },
    {
     "data": {
      "image/png": "[encoded data removed]",
      "text/plain": [
       "<matplotlib.figure.Figure at 0x1b8b51cb38>"
      ]
     },
     "metadata": {},
     "output_type": "display_data"
    },
    {
     "data": {
      "text/plain": [
       "DescribeResult(nobs=20, minmax=(0.018829829240609885, 0.03253259700874623), mean=0.022886496628077048, variance=1.5342616700936096e-05, skewness=0.9348340234014975, kurtosis=-0.10955605037648608)"
      ]
     },
     "execution_count": 169,
     "metadata": {},
     "output_type": "execute_result"
    }
   ],
   "source": [
    "print(np.mean(hos_train_rmse))\n",
    "plt.hist(np.array(hos_train_rmse), bins='auto')\n",
    "plt.show()\n",
    "stats.describe(hos_train_rmse)"
   ]
  },
  {
   "cell_type": "code",
   "execution_count": 170,
   "metadata": {},
   "outputs": [
    {
     "data": {
      "text/plain": [
       "84.1"
      ]
     },
     "execution_count": 170,
     "metadata": {},
     "output_type": "execute_result"
    }
   ],
   "source": [
    "k = [hos_train_error85[i][(hos_train_error85[i]>0.1) | (hos_train_error85[i]<-0.1)].shape[0] for i in range(len(hos_train_error85))]\n",
    "\n",
    "np.mean(k)"
   ]
  },
  {
   "cell_type": "code",
   "execution_count": 171,
   "metadata": {},
   "outputs": [
    {
     "data": {
      "image/png": "[encoded data removed]",
      "text/plain": [
       "<matplotlib.figure.Figure at 0x1b8a3b78d0>"
      ]
     },
     "metadata": {},
     "output_type": "display_data"
    }
   ],
   "source": [
    "plt.hist(k, bins='auto')\n",
    "plt.show()"
   ]
  },
  {
   "cell_type": "code",
   "execution_count": 172,
   "metadata": {},
   "outputs": [
    {
     "data": {
      "text/plain": [
       "2.7510160462362467"
      ]
     },
     "execution_count": 172,
     "metadata": {},
     "output_type": "execute_result"
    }
   ],
   "source": [
    "np.median(hos_train_mape)"
   ]
  },
  {
   "cell_type": "code",
   "execution_count": null,
   "metadata": {},
   "outputs": [],
   "source": [
    "plt.hist(k, bins='auto')\n",
    "plt.show()"
   ]
  },
  {
   "cell_type": "code",
   "execution_count": 173,
   "metadata": {},
   "outputs": [],
   "source": [
    "cpik.dump(hos_train_mape, open( \"inside compare/hos/20/1_Hospitality_1channel_mape.pkl\", \"wb\" )) \n",
    "cpik.dump(hos_train_rmse, open( \"inside compare/hos/20/1_Hospitality_1channel_rmse.pkl\", \"wb\" )) \n",
    "cpik.dump(hos_train_error85, open( \"inside compare/hos/20/1_Hospitality_1channel_error85.pkl\", \"wb\" )) "
   ]
  },
  {
   "cell_type": "markdown",
   "metadata": {},
   "source": [
    "##  2- Retail\n",
    "\n",
    "   ### (3, 64, 64, 0.1, 0.1, 16)"
   ]
  },
  {
   "cell_type": "code",
   "execution_count": 174,
   "metadata": {},
   "outputs": [
    {
     "name": "stdout",
     "output_type": "stream",
     "text": [
      "(4212,) (7, 7, 2)\n"
     ]
    }
   ],
   "source": [
    "ret_df = pd.read_csv('4_retail_13months.csv').iloc[:, 1:8]\n",
    "\n",
    "neighbours_index_image_arys = cpik.load(open(\"4_retail_13months.pkl\", \"rb\" ))\n",
    "ret_df['neighbours_index_image'] = neighbours_index_image_arys.tolist()\n",
    "ret_df['neighbours_index_image'] = ret_df['neighbours_index_image'].apply(lambda x : np.array(x))\n",
    "print(ret_df['neighbours_index_image'].shape, ret_df['neighbours_index_image'].iloc[0].shape)\n",
    "ts = 3"
   ]
  },
  {
   "cell_type": "code",
   "execution_count": 175,
   "metadata": {},
   "outputs": [],
   "source": [
    "# Build up dateset\n",
    "X_train_ret, Y_train_ret, X_test_ret, Y_test_ret= build_dl_dataset_by_ts(ret_df, ts)\n",
    "X_train_ret = np.array(X_train_ret)\n",
    "X_train_ret = np.nan_to_num(X_train_ret)\n",
    "\n",
    "Y_train_ret = np.array(Y_train_ret)\n",
    "Y_train_ret = Y_train_ret.reshape(Y_train_ret.shape[0],Y_train_ret.shape[1],1)\n",
    "Y_train_ret = np.nan_to_num(Y_train_ret)\n",
    "\n",
    "\n",
    "X_test_ret = np.array(X_test_ret)\n",
    "X_test_ret = np.nan_to_num(X_test_ret)\n",
    "\n",
    "Y_test_ret = np.array(Y_test_ret)\n",
    "Y_test_ret = Y_test_ret.reshape(Y_test_ret.shape[0],Y_test_ret.shape[1],1)\n",
    "Y_test_ret = np.nan_to_num(Y_test_ret)"
   ]
  },
  {
   "cell_type": "code",
   "execution_count": 176,
   "metadata": {},
   "outputs": [
    {
     "name": "stdout",
     "output_type": "stream",
     "text": [
      "(2916, 3, 7, 7, 2) (2916, 3, 1) (324, 3, 7, 7, 2) (324, 3, 1)\n"
     ]
    }
   ],
   "source": [
    "print(X_train_ret.shape, Y_train_ret.shape, X_test_ret.shape, Y_test_ret.shape)"
   ]
  },
  {
   "cell_type": "code",
   "execution_count": 177,
   "metadata": {},
   "outputs": [],
   "source": [
    "X_train_ret = X_train_ret[:,:,:,:,0].reshape(2916, 3, 7, 7, 1)\n",
    "X_test_ret = X_test_ret[:,:,:,:,0].reshape(324, 3, 7, 7,1)"
   ]
  },
  {
   "cell_type": "code",
   "execution_count": 178,
   "metadata": {},
   "outputs": [
    {
     "name": "stdout",
     "output_type": "stream",
     "text": [
      "(2916, 3, 7, 7, 1) (2916, 3, 1) (324, 3, 7, 7, 1) (324, 3, 1)\n"
     ]
    }
   ],
   "source": [
    "print(X_train_ret.shape, Y_train_ret.shape, X_test_ret.shape, Y_test_ret.shape)"
   ]
  },
  {
   "cell_type": "code",
   "execution_count": 93,
   "metadata": {},
   "outputs": [],
   "source": [
    "inputshapes = X_train_ret.shape[1:]\n",
    "\n",
    "\n",
    "cnnlstm = cnn_on_lstm_rms_model(64, 64, 0.1, 0.1, 16, inputshapes, mape_loss)\n",
    "cnnlstm.fit(X_train_ret, Y_train_ret, batch_size = 64,epochs=50,verbose=0) #\n",
    "\n",
    "Y_train_ret_pred = cnnlstm.predict(X_train_ret)\n",
    "Y_test_ret_pred = cnnlstm.predict(X_test_ret)\n",
    "\n",
    "Y_train_ret_pred = Y_train_ret_pred[:,-1,:].flatten()\n",
    "Y_train_ret_true = Y_train_ret[:,-1,:].flatten()\n",
    "\n",
    "Y_test_ret_pred = Y_test_ret_pred[:,-1,:].flatten()\n",
    "Y_test_ret_true = Y_test_ret[:,-1,:].flatten()\n",
    "\n",
    "\n",
    "# mape train\n",
    "ret_train_mape = mape(Y_train_ret_pred, Y_train_ret_true)\n",
    "\n",
    "# mape test\n",
    "ret_test_mape = mape(Y_test_ret_pred, Y_test_ret_true)\n",
    "\n",
    "\n",
    "# rmse train\n",
    "ret_train_rmse = rmse(Y_train_ret_pred, Y_train_ret_true)\n",
    "\n",
    "# rmse test\n",
    "rettest_rmse = rmse(Y_test_ret_pred, Y_test_ret_true)"
   ]
  },
  {
   "cell_type": "code",
   "execution_count": 94,
   "metadata": {},
   "outputs": [
    {
     "data": {
      "text/plain": [
       "(2.711875260565852,\n",
       " 2.8227164940865146,\n",
       " 0.019935022065072066,\n",
       " 0.020797210968718116)"
      ]
     },
     "execution_count": 94,
     "metadata": {},
     "output_type": "execute_result"
    }
   ],
   "source": [
    "ret_train_mape, ret_test_mape, ret_train_rmse, ret_test_rmse"
   ]
  },
  {
   "cell_type": "code",
   "execution_count": 210,
   "metadata": {},
   "outputs": [
    {
     "name": "stdout",
     "output_type": "stream",
     "text": [
      "Finished 0 times\n",
      "Finished 10 times\n",
      "Finished 20 times\n"
     ]
    }
   ],
   "source": [
    "ret_train_mape, ret_test_mape, ret_train_rmse, \\\n",
    "ret_test_rmse, ret_train_error85, ret_test_error85 \\\n",
    "    = get_performance(30, X_train_ret, Y_train_ret, X_test_ret, Y_test_ret)"
   ]
  },
  {
   "cell_type": "code",
   "execution_count": 211,
   "metadata": {},
   "outputs": [
    {
     "name": "stdout",
     "output_type": "stream",
     "text": [
      "2.5684784712130324\n"
     ]
    },
    {
     "data": {
      "image/png": "[encoded data removed]",
      "text/plain": [
       "<matplotlib.figure.Figure at 0x1c68634fd0>"
      ]
     },
     "metadata": {},
     "output_type": "display_data"
    },
    {
     "data": {
      "text/plain": [
       "DescribeResult(nobs=30, minmax=(2.161668470264007, 3.699647566743227), mean=2.5684784712130324, variance=0.15579210056470966, skewness=1.2328918809716396, kurtosis=0.733746326298117)"
      ]
     },
     "execution_count": 211,
     "metadata": {},
     "output_type": "execute_result"
    }
   ],
   "source": [
    "from matplotlib import pyplot as plt\n",
    "from scipy import stats\n",
    "#hos_train_mape_new = [hos_train_mape[i] for i in range(0,len(hos_train_mape),4)]\n",
    "print(np.mean(ret_train_mape))\n",
    "plt.hist(np.array(ret_train_mape), bins='auto')\n",
    "plt.show()\n",
    "stats.describe(ret_train_mape)"
   ]
  },
  {
   "cell_type": "code",
   "execution_count": 212,
   "metadata": {},
   "outputs": [
    {
     "name": "stdout",
     "output_type": "stream",
     "text": [
      "0.01964729870319339\n"
     ]
    },
    {
     "data": {
      "image/png": "[encoded data removed]",
      "text/plain": [
       "<matplotlib.figure.Figure at 0x1c68634f98>"
      ]
     },
     "metadata": {},
     "output_type": "display_data"
    },
    {
     "data": {
      "text/plain": [
       "DescribeResult(nobs=30, minmax=(0.01639218618887769, 0.030217248914647332), mean=0.01964729870319339, variance=1.022356466671305e-05, skewness=1.454348781746747, kurtosis=2.109950547602578)"
      ]
     },
     "execution_count": 212,
     "metadata": {},
     "output_type": "execute_result"
    }
   ],
   "source": [
    "print(np.mean(ret_train_rmse))\n",
    "plt.hist(np.array(ret_train_rmse), bins='auto')\n",
    "plt.show()\n",
    "stats.describe(ret_train_rmse)"
   ]
  },
  {
   "cell_type": "code",
   "execution_count": 213,
   "metadata": {},
   "outputs": [
    {
     "data": {
      "text/plain": [
       "66.9"
      ]
     },
     "execution_count": 213,
     "metadata": {},
     "output_type": "execute_result"
    }
   ],
   "source": [
    "#t = hos_train_error85[3]\n",
    "#t[(t>0.1) | (t<-0.1)].shape, t.shape\n",
    "k = [ret_train_error85[i][(ret_train_error85[i]>0.1) | (ret_train_error85[i]<-0.1)].shape[0] for i in range(len(ret_train_error85))]\n",
    "np.mean(k)"
   ]
  },
  {
   "cell_type": "code",
   "execution_count": 214,
   "metadata": {},
   "outputs": [
    {
     "data": {
      "image/png": "[encoded data removed]",
      "text/plain": [
       "<matplotlib.figure.Figure at 0x1c4792d780>"
      ]
     },
     "metadata": {},
     "output_type": "display_data"
    }
   ],
   "source": [
    "plt.hist(k, bins='auto')\n",
    "plt.show()"
   ]
  },
  {
   "cell_type": "code",
   "execution_count": 216,
   "metadata": {},
   "outputs": [],
   "source": [
    "cpik.dump(ret_train_mape, open( \"inside compare/ret/30/1_Retail_1channel_mape.pkl\", \"wb\" )) \n",
    "cpik.dump(ret_train_rmse, open( \"inside compare/ret/30/1_Retail_1channel_rmse.pkl\", \"wb\" )) \n",
    "cpik.dump(ret_train_error85, open( \"inside compare/ret/30/1_Retail_1channel_error85.pkl\", \"wb\" )) "
   ]
  },
  {
   "cell_type": "markdown",
   "metadata": {},
   "source": [
    "  "
   ]
  },
  {
   "cell_type": "markdown",
   "metadata": {},
   "source": [
    "##  3- Building\n",
    "\n",
    "   ### (3, 128, 64, 0.1, 0.1, 64)"
   ]
  },
  {
   "cell_type": "code",
   "execution_count": 6,
   "metadata": {},
   "outputs": [
    {
     "name": "stdout",
     "output_type": "stream",
     "text": [
      "(4498,) (7, 7, 2)\n"
     ]
    }
   ],
   "source": [
    "bud_df = pd.read_csv('1_building_13months.csv').iloc[:, 1:8]\n",
    "\n",
    "neighbours_index_image_arys = cpik.load(open(\"1_building_13months.pkl\", \"rb\" ))\n",
    "bud_df['neighbours_index_image'] = neighbours_index_image_arys.tolist()\n",
    "bud_df['neighbours_index_image'] = bud_df['neighbours_index_image'].apply(lambda x : np.array(x))\n",
    "print(bud_df['neighbours_index_image'].shape, bud_df['neighbours_index_image'].iloc[0].shape)\n",
    "ts = 3"
   ]
  },
  {
   "cell_type": "code",
   "execution_count": 10,
   "metadata": {},
   "outputs": [],
   "source": [
    "# Build up dateset\n",
    "X_train_bud, Y_train_bud, X_test_bud, Y_test_bud= build_dl_dataset_by_ts(bud_df, ts)\n",
    "X_train_bud = np.array(X_train_bud)\n",
    "X_train_bud = np.nan_to_num(X_train_bud)\n",
    "\n",
    "Y_train_bud = np.array(Y_train_bud)\n",
    "Y_train_bud = Y_train_bud.reshape(Y_train_bud.shape[0],X_train_bud.shape[1],1)\n",
    "Y_train_bud = np.nan_to_num(Y_train_bud)\n",
    "\n",
    "\n",
    "X_test_bud = np.array(X_test_bud)\n",
    "X_test_bud = np.nan_to_num(X_test_bud)\n",
    "\n",
    "Y_test_bud = np.array(Y_test_bud)\n",
    "Y_test_bud = Y_test_bud.reshape(Y_test_bud.shape[0],Y_test_bud.shape[1],1)\n",
    "Y_test_bud = np.nan_to_num(Y_test_bud)"
   ]
  },
  {
   "cell_type": "code",
   "execution_count": 11,
   "metadata": {},
   "outputs": [
    {
     "name": "stdout",
     "output_type": "stream",
     "text": [
      "(3114, 3, 7, 7, 2) (3114, 3, 1) (346, 3, 7, 7, 2) (346, 3, 1)\n"
     ]
    }
   ],
   "source": [
    "print(X_train_bud.shape, Y_train_bud.shape, X_test_bud.shape, Y_test_bud.shape)"
   ]
  },
  {
   "cell_type": "code",
   "execution_count": 12,
   "metadata": {},
   "outputs": [],
   "source": [
    "X_train_bud = X_train_bud[:,:,:,:,0].reshape(3114, 3, 7, 7, 1)\n",
    "X_test_bud = X_test_bud[:,:,:,:,0].reshape(346, 3, 7, 7,1)"
   ]
  },
  {
   "cell_type": "code",
   "execution_count": 13,
   "metadata": {},
   "outputs": [
    {
     "name": "stdout",
     "output_type": "stream",
     "text": [
      "(3114, 3, 7, 7, 1) (3114, 3, 1) (346, 3, 7, 7, 1) (346, 3, 1)\n"
     ]
    }
   ],
   "source": [
    "print(X_train_bud.shape, Y_train_bud.shape, X_test_bud.shape, Y_test_bud.shape)"
   ]
  },
  {
   "cell_type": "code",
   "execution_count": 107,
   "metadata": {},
   "outputs": [],
   "source": [
    "inputshapes = X_train_bud.shape[1:]\n",
    "\n",
    "\n",
    "cnnlstm = cnn_on_lstm_rms_model(64, 64, 0.1, 0.1, 64, inputshapes, mape_loss)\n",
    "cnnlstm.fit(X_train_bud, Y_train_bud, batch_size = 64,epochs=50,verbose=0) #\n",
    "\n",
    "\n",
    "Y_train_bud_pred = cnnlstm.predict(X_train_bud)\n",
    "Y_test_bud_pred = cnnlstm.predict(X_test_bud)\n",
    "\n",
    "Y_train_bud_pred = Y_train_bud_pred[:,-1,:].flatten()\n",
    "Y_train_bud_true = Y_train_bud[:,-1,:].flatten()\n",
    "Y_test_bud_pred = Y_test_bud_pred[:,-1,:].flatten()\n",
    "Y_test_bud_true = Y_test_bud[:,-1,:].flatten()\n",
    "\n",
    "\n",
    "# mape train\n",
    "\n",
    "bud_train_mape = mape(Y_train_bud_pred, Y_train_bud_true)\n",
    "\n",
    "# mape test\n",
    "bud_test_mape = mape(Y_test_bud_pred, Y_test_bud_true)\n",
    "\n",
    "\n",
    "# rmse train\n",
    "bud_train_rmse = rmse(Y_train_bud_pred, Y_train_bud_true)\n",
    "\n",
    "# rmse test\n",
    "bud_test_rmse = rmse(Y_test_bud_pred, Y_test_bud_true)"
   ]
  },
  {
   "cell_type": "code",
   "execution_count": 108,
   "metadata": {},
   "outputs": [
    {
     "data": {
      "text/plain": [
       "(3.716196248868705,\n",
       " 5.452809844697034,\n",
       " 0.026411421955933382,\n",
       " 0.0401412817018225)"
      ]
     },
     "execution_count": 108,
     "metadata": {},
     "output_type": "execute_result"
    }
   ],
   "source": [
    "bud_train_mape, bud_test_mape, bud_train_rmse, bud_test_rmse"
   ]
  },
  {
   "cell_type": "code",
   "execution_count": 14,
   "metadata": {},
   "outputs": [
    {
     "name": "stdout",
     "output_type": "stream",
     "text": [
      "Finished 0 times\n",
      "Finished 10 times\n",
      "Finished 20 times\n"
     ]
    }
   ],
   "source": [
    "#bud_train_mape, bud_test_mape, bud_train_rmse, bud_test_rmse = get_performance(100, X_train_bud, Y_train_bud, X_test_bud, Y_test_bud)\n",
    "bud_train_mape, bud_test_mape, bud_train_rmse, \\\n",
    "bud_test_rmse, bud_train_error85, bud_test_error85 = \\\n",
    "get_performance(30, X_train_bud, Y_train_bud, X_test_bud, Y_test_bud)"
   ]
  },
  {
   "cell_type": "code",
   "execution_count": 15,
   "metadata": {},
   "outputs": [
    {
     "name": "stdout",
     "output_type": "stream",
     "text": [
      "3.741462955790374\n"
     ]
    },
    {
     "data": {
      "text/plain": [
       "<matplotlib.figure.Figure at 0x1a5222b6a0>"
      ]
     },
     "metadata": {},
     "output_type": "display_data"
    },
    {
     "data": {
      "text/plain": [
       "DescribeResult(nobs=30, minmax=(3.2242304394624526, 4.550286491444144), mean=3.741462955790374, variance=0.157691045979239, skewness=0.5150034996633149, kurtosis=-0.8318729606389792)"
      ]
     },
     "execution_count": 15,
     "metadata": {},
     "output_type": "execute_result"
    }
   ],
   "source": [
    "from matplotlib import pyplot as plt\n",
    "from scipy import stats\n",
    "#hos_train_mape_new = [hos_train_mape[i] for i in range(0,len(hos_train_mape),4)]\n",
    "print(np.mean(bud_train_mape))\n",
    "plt.hist(np.array(bud_train_mape), bins='auto')\n",
    "plt.show()\n",
    "stats.describe(bud_train_mape)"
   ]
  },
  {
   "cell_type": "code",
   "execution_count": 16,
   "metadata": {},
   "outputs": [
    {
     "name": "stdout",
     "output_type": "stream",
     "text": [
      "0.025990797659797883\n"
     ]
    },
    {
     "data": {
      "image/png": "[encoded data removed]",
      "text/plain": [
       "<matplotlib.figure.Figure at 0x1a5222b5f8>"
      ]
     },
     "metadata": {},
     "output_type": "display_data"
    },
    {
     "data": {
      "text/plain": [
       "DescribeResult(nobs=30, minmax=(0.022599195196254175, 0.03194636267660977), mean=0.025990797659797883, variance=6.579118727292174e-06, skewness=0.6376496313213723, kurtosis=-0.4522616670108497)"
      ]
     },
     "execution_count": 16,
     "metadata": {},
     "output_type": "execute_result"
    }
   ],
   "source": [
    "print(np.mean(bud_train_rmse))\n",
    "plt.hist(np.array(bud_train_rmse), bins='auto')\n",
    "plt.show()\n",
    "stats.describe(bud_train_rmse)"
   ]
  },
  {
   "cell_type": "code",
   "execution_count": 17,
   "metadata": {},
   "outputs": [
    {
     "data": {
      "text/plain": [
       "85.36666666666666"
      ]
     },
     "execution_count": 17,
     "metadata": {},
     "output_type": "execute_result"
    }
   ],
   "source": [
    "\n",
    "k = [bud_train_error85[i][(bud_train_error85[i]>0.1) | (bud_train_error85[i]<-0.1)].shape[0] for i in range(len(bud_train_error85))]\n",
    "\n",
    "np.mean(k)"
   ]
  },
  {
   "cell_type": "code",
   "execution_count": 18,
   "metadata": {},
   "outputs": [
    {
     "data": {
      "image/png": "[encoded data removed]",
      "text/plain": [
       "<matplotlib.figure.Figure at 0x1a519b64a8>"
      ]
     },
     "metadata": {},
     "output_type": "display_data"
    }
   ],
   "source": [
    "plt.hist(k, bins='auto')\n",
    "plt.show()"
   ]
  },
  {
   "cell_type": "code",
   "execution_count": 19,
   "metadata": {},
   "outputs": [],
   "source": [
    "cpik.dump(bud_train_mape, open( \"inside compare/bud/30/1_Retail_1channel_mape.pkl\", \"wb\" )) \n",
    "cpik.dump(bud_train_rmse, open( \"inside compare/bud/30/1_Retail_1channel_rmse.pkl\", \"wb\" )) \n",
    "cpik.dump(bud_train_error85, open( \"inside compare/bud/30/1_Retail_1channel_error85.pkl\", \"wb\" )) "
   ]
  },
  {
   "cell_type": "markdown",
   "metadata": {},
   "source": [
    "#  Result plot\n"
   ]
  },
  {
   "cell_type": "code",
   "execution_count": 52,
   "metadata": {},
   "outputs": [],
   "source": [
    "def dl_result(df, ts, Y_train, Y_test):\n",
    "    '''\n",
    "    Concate the prediction result from DL model\n",
    "    \n",
    "    '''\n",
    "    \n",
    "    \n",
    "    fids = df['FishnetID'].unique().tolist()\n",
    "    len_fids = len(fids)\n",
    "    df['dl_avg_pred'] = 0\n",
    "    s = i = 0\n",
    "    train_idx_span = int(Y_train.shape[0] / len_fids)\n",
    "    for fid in fids:\n",
    "        df_current = df[df['FishnetID'] == fid].reset_index(drop = True)\n",
    "        df_current_len = df_current.shape[0]\n",
    "        #print(s,df_current_len,train_idx_span)\n",
    "        if (df_current_len - ts - 1)>0:\n",
    "            #for i in range(train_idx_span):\n",
    "            #print((ts + s*df_current_len + train_idx_span))\n",
    "            #print(Y_train[s*9:(s+1)*train_idx_span])\n",
    "            df['dl_avg_pred'].iloc[(ts + s*df_current_len): \n",
    "                                   (ts + s*df_current_len + train_idx_span)] = Y_train[s*9:(s+1)*train_idx_span]\n",
    "            # testing result\n",
    "            #print(Y_test[s])\n",
    "            df['dl_avg_pred'].iloc[ts + s*df_current_len + train_idx_span] = Y_test[s]\n",
    "                \n",
    "        elif (df_current_len - ts - 1)==0:\n",
    "            # training result\n",
    "            df['dl_avg_pred'].iloc[(ts + s*df_current_len): \n",
    "                                   (ts + (s+1)*train_idx_span)] = Y_train[s*9:(s+1)*train_idx_span]\n",
    "            # testing result\n",
    "            df['dl_avg_pred'].iloc[ts + (s+1)*train_idx_span] = Y_test[s]\n",
    "                \n",
    "        else:\n",
    "            print('data size too less than assigned time step')\n",
    "        \n",
    "        s = s+1\n",
    "        i = i+1\n",
    "        \n",
    "    return df"
   ]
  },
  {
   "cell_type": "markdown",
   "metadata": {},
   "source": [
    "##  1. host"
   ]
  },
  {
   "cell_type": "code",
   "execution_count": 54,
   "metadata": {},
   "outputs": [
    {
     "name": "stderr",
     "output_type": "stream",
     "text": [
      "/Users/michael.zhang/anaconda3/lib/python3.6/site-packages/pandas/core/indexing.py:194: SettingWithCopyWarning: \n",
      "A value is trying to be set on a copy of a slice from a DataFrame\n",
      "\n",
      "See the caveats in the documentation: http://pandas.pydata.org/pandas-docs/stable/indexing.html#indexing-view-versus-copy\n",
      "  self._setitem_with_indexer(indexer, value)\n"
     ]
    }
   ],
   "source": [
    "hos_df_result = dl_result(hos_df, ts, Y_train_pred, Y_test_pred)\n"
   ]
  },
  {
   "cell_type": "code",
   "execution_count": 57,
   "metadata": {},
   "outputs": [],
   "source": [
    "hos_df_result_085 = hos_df_result[(hos_df_result['PerformanceTarget'] <=0.85 )][['FishnetID','ReportingMonth',\n",
    "                                                                             'PerformanceTarget',\n",
    "                                                                             'dl_avg_pred']]"
   ]
  },
  {
   "cell_type": "code",
   "execution_count": 61,
   "metadata": {},
   "outputs": [
    {
     "data": {
      "text/plain": [
       "<matplotlib.axes._subplots.AxesSubplot at 0x1a30b96c18>"
      ]
     },
     "execution_count": 61,
     "metadata": {},
     "output_type": "execute_result"
    }
   ],
   "source": [
    "hos_df_result_085['df_error'] = hos_df_result_085['dl_avg_pred'] - hos_df_result_085['PerformanceTarget']\n"
   ]
  },
  {
   "cell_type": "code",
   "execution_count": 63,
   "metadata": {},
   "outputs": [
    {
     "data": {
      "text/plain": [
       "<matplotlib.axes._subplots.AxesSubplot at 0x1a31135d30>"
      ]
     },
     "execution_count": 63,
     "metadata": {},
     "output_type": "execute_result"
    },
    {
     "data": {
      "image/png": "[encoded data removed]",
      "text/plain": [
       "<matplotlib.figure.Figure at 0x1a3110b5f8>"
      ]
     },
     "metadata": {},
     "output_type": "display_data"
    }
   ],
   "source": [
    "hos_df_result_085['df_error'].hist()"
   ]
  },
  {
   "cell_type": "code",
   "execution_count": 64,
   "metadata": {},
   "outputs": [],
   "source": [
    "hos_df_result_085.to_csv('hos_df_result_085.csv')"
   ]
  },
  {
   "cell_type": "markdown",
   "metadata": {},
   "source": [
    "##  2. Retail"
   ]
  },
  {
   "cell_type": "code",
   "execution_count": 95,
   "metadata": {},
   "outputs": [
    {
     "name": "stderr",
     "output_type": "stream",
     "text": [
      "/Users/michael.zhang/anaconda3/lib/python3.6/site-packages/pandas/core/indexing.py:194: SettingWithCopyWarning: \n",
      "A value is trying to be set on a copy of a slice from a DataFrame\n",
      "\n",
      "See the caveats in the documentation: http://pandas.pydata.org/pandas-docs/stable/indexing.html#indexing-view-versus-copy\n",
      "  self._setitem_with_indexer(indexer, value)\n"
     ]
    }
   ],
   "source": [
    "ret_df_result = dl_result(ret_df, ts, Y_train_pred, Y_test_pred)"
   ]
  },
  {
   "cell_type": "code",
   "execution_count": 96,
   "metadata": {},
   "outputs": [],
   "source": [
    "ret_df_result_085 = ret_df_result[(ret_df_result['PerformanceTarget'] <=0.85 )][['FishnetID','ReportingMonth',\n",
    "                                                                             'PerformanceTarget',\n",
    "                                                                             'dl_avg_pred']]\n",
    "ret_df_result_085['df_error'] = ret_df_result_085['dl_avg_pred'] - ret_df_result_085['PerformanceTarget']"
   ]
  },
  {
   "cell_type": "code",
   "execution_count": 98,
   "metadata": {},
   "outputs": [
    {
     "data": {
      "text/plain": [
       "<matplotlib.axes._subplots.AxesSubplot at 0x1a33442eb8>"
      ]
     },
     "execution_count": 98,
     "metadata": {},
     "output_type": "execute_result"
    },
    {
     "data": {
      "image/png": "[encoded data removed]",
      "text/plain": [
       "<matplotlib.figure.Figure at 0x1a38eb7c88>"
      ]
     },
     "metadata": {},
     "output_type": "display_data"
    }
   ],
   "source": [
    "ret_df_result_085['df_error'].hist()"
   ]
  },
  {
   "cell_type": "code",
   "execution_count": 99,
   "metadata": {},
   "outputs": [],
   "source": [
    "ret_df_result_085.to_csv('ret_df_result_085_1_channel.csv')"
   ]
  },
  {
   "cell_type": "markdown",
   "metadata": {},
   "source": [
    "## 3.Building"
   ]
  },
  {
   "cell_type": "code",
   "execution_count": 109,
   "metadata": {},
   "outputs": [
    {
     "name": "stderr",
     "output_type": "stream",
     "text": [
      "/Users/michael.zhang/anaconda3/lib/python3.6/site-packages/pandas/core/indexing.py:194: SettingWithCopyWarning: \n",
      "A value is trying to be set on a copy of a slice from a DataFrame\n",
      "\n",
      "See the caveats in the documentation: http://pandas.pydata.org/pandas-docs/stable/indexing.html#indexing-view-versus-copy\n",
      "  self._setitem_with_indexer(indexer, value)\n"
     ]
    }
   ],
   "source": [
    "bud_df_result = dl_result(bud_df, ts, Y_train_pred, Y_test_pred)"
   ]
  },
  {
   "cell_type": "code",
   "execution_count": 110,
   "metadata": {},
   "outputs": [],
   "source": [
    "bud_df_result_085 = bud_df_result[(bud_df_result['PerformanceTarget'] <=0.85 )][['FishnetID','ReportingMonth',\n",
    "                                                                             'PerformanceTarget',\n",
    "                                                                             'dl_avg_pred']]\n",
    "bud_df_result_085['df_error'] = bud_df_result_085['dl_avg_pred'] - bud_df_result_085['PerformanceTarget']"
   ]
  },
  {
   "cell_type": "code",
   "execution_count": 111,
   "metadata": {},
   "outputs": [
    {
     "data": {
      "text/plain": [
       "<matplotlib.axes._subplots.AxesSubplot at 0x1a39c07c50>"
      ]
     },
     "execution_count": 111,
     "metadata": {},
     "output_type": "execute_result"
    },
    {
     "data": {
      "image/png": "[encoded data removed]",
      "text/plain": [
       "<matplotlib.figure.Figure at 0x1a39c03470>"
      ]
     },
     "metadata": {},
     "output_type": "display_data"
    }
   ],
   "source": [
    "bud_df_result_085['df_error'].hist()"
   ]
  },
  {
   "cell_type": "code",
   "execution_count": 112,
   "metadata": {},
   "outputs": [],
   "source": [
    "bud_df_result_085.to_csv('bud_df_result_085_1_channel.csv')"
   ]
  },
  {
   "cell_type": "code",
   "execution_count": 114,
   "metadata": {},
   "outputs": [
    {
     "data": {
      "text/plain": [
       "(283, 5)"
      ]
     },
     "execution_count": 114,
     "metadata": {},
     "output_type": "execute_result"
    }
   ],
   "source": [
    "bud_df_result_085[(bud_df_result_085['df_error'] >=0.1) | (bud_df_result_085['df_error']<= -0.1)].shape"
   ]
  },
  {
   "cell_type": "code",
   "execution_count": 116,
   "metadata": {},
   "outputs": [
    {
     "data": {
      "text/plain": [
       "(941, 5)"
      ]
     },
     "execution_count": 116,
     "metadata": {},
     "output_type": "execute_result"
    }
   ],
   "source": [
    "bud_df_result_085.shape"
   ]
  },
  {
   "cell_type": "code",
   "execution_count": 118,
   "metadata": {},
   "outputs": [
    {
     "name": "stdout",
     "output_type": "stream",
     "text": [
      "3.71782726750544 5.111769727059533 0.025845277126805965 0.03661454931613751\n"
     ]
    }
   ],
   "source": [
    "#small test\n",
    "inputshapes = X_train.shape[1:]\n",
    "\n",
    "cnnlstm_train_mape= cnnlstm_test_mape =cnnlstm_train_rmse =cnnlstm_test_rmse = 0 \n",
    "\n",
    "for i in range(100):\n",
    "    print(i)\n",
    "    cnnlstm = cnn_on_lstm_rms_model(64, 64, 0.1, 0.1, 64, inputshapes, mape_loss)\n",
    "    cnnlstm.fit(X_train, Y_train, batch_size = 64,epochs=50,verbose=0) #\n",
    "    Y_train_pred = cnnlstm.predict(X_train)\n",
    "    Y_test_pred = cnnlstm.predict(X_test)\n",
    "    Y_train_pred = Y_train_pred[:,-1,:].flatten()\n",
    "    Y_train_true = Y_train[:,-1,:].flatten()\n",
    "    Y_test_pred = Y_test_pred[:,-1,:].flatten()\n",
    "    Y_test_true = Y_test[:,-1,:].flatten()\n",
    "\n",
    "    # mape train\n",
    "\n",
    "    cnnlstm_train_mape += mape(Y_train_pred, Y_train_true)\n",
    "\n",
    "    # mape test\n",
    "\n",
    "    cnnlstm_test_mape += mape(Y_test_pred, Y_test_true)\n",
    "\n",
    "\n",
    "    # rmse train\n",
    "    cnnlstm_train_rmse += rmse(Y_train_pred, Y_train_true)\n",
    "\n",
    "    # rmse test\n",
    "    cnnlstm_test_rmse += rmse(Y_test_pred, Y_test_true)\n",
    "    \n",
    "print(cnnlstm_train_mape/100, cnnlstm_test_mape/100, cnnlstm_train_rmse/100, cnnlstm_test_rmse/100)"
   ]
  },
  {
   "cell_type": "code",
   "execution_count": null,
   "metadata": {},
   "outputs": [],
   "source": []
  }
 ],
 "metadata": {
  "kernelspec": {
   "display_name": "Python 3",
   "language": "python",
   "name": "python3"
  },
  "language_info": {
   "codemirror_mode": {
    "name": "ipython",
    "version": 3
   },
   "file_extension": ".py",
   "mimetype": "text/x-python",
   "name": "python",
   "nbconvert_exporter": "python",
   "pygments_lexer": "ipython3",
   "version": "3.6.4"
  }
 },
 "nbformat": 4,
 "nbformat_minor": 2
}
