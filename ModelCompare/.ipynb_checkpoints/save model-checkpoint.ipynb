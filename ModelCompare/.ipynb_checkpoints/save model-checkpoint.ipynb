{
 "cells": [
  {
   "cell_type": "code",
   "execution_count": 72,
   "metadata": {},
   "outputs": [],
   "source": [
    "import pandas as pd\n",
    "import numpy as np\n",
    "import six\n",
    "from six.moves import cPickle as cpik\n",
    "import tensorflow as tf\n",
    "import keras\n",
    "from keras.models import load_model\n",
    "from keras.models import Sequential\n",
    "from keras.layers import TimeDistributed, Conv2D, MaxPooling2D, Flatten, Dropout, Dense\n",
    "from keras.layers.recurrent import LSTM,GRU\n",
    "from keras import backend as K\n",
    "from timeit import default_timer as timer\n",
    "from sklearn.grid_search import GridSearchCV\n",
    "from keras.models import Sequential\n",
    "from keras.layers import Dense\n",
    "from keras.layers import Dropout\n",
    "from keras.wrappers.scikit_learn import KerasClassifier\n",
    "from keras.constraints import maxnorm\n",
    "import six\n",
    "from six.moves import cPickle as cpik\n",
    "from sklearn import preprocessing"
   ]
  },
  {
   "cell_type": "markdown",
   "metadata": {},
   "source": [
    "### 1- Functions of reading Data, accuracy measures, etc."
   ]
  },
  {
   "cell_type": "code",
   "execution_count": 30,
   "metadata": {},
   "outputs": [],
   "source": [
    "def build_dl_dataset_by_ts(df, ts):\n",
    "    '''\n",
    "    Build up a (data_size * 11 * 7 * 7 * 2) dataset for both traning and testing\n",
    "    \n",
    "    Input\n",
    "    df: a dateframe\n",
    "    ts: time_steps, use how many previous time frame to predict the next one, e.g., if it is 11, then use the\n",
    "        previous 11 date to predict current 1.\n",
    "    \n",
    "    Output\n",
    "    Training set and testing set\n",
    "    \n",
    "    '''\n",
    "    fids = df['FishnetID'].unique().tolist()\n",
    "    #print(fids)\n",
    "    X_train = []\n",
    "    Y_train = []\n",
    "    X_test = []\n",
    "    Y_test = []\n",
    "    \n",
    "    for fid in fids:\n",
    "        df_current = df[df['FishnetID'] == fid].reset_index(drop = True) #original dataset has been ordered by time.\n",
    "        df_current_len = df_current.shape[0] # overall length of current data \n",
    "        if (df_current_len - ts - 1)>0:\n",
    "            for i in range(df_current_len - ts - 1):\n",
    "                # current slice of input data\n",
    "                X_train_cur = []\n",
    "                Y_train_cur = []\n",
    "                # append every X by time steps\n",
    "                for x_v in df_current['neighbours_index_image'].iloc[i : (i+ts)].values:\n",
    "                    X_train_cur.append(x_v)\n",
    "                    #print(np.array(X_cur).shape)    \n",
    "                X_train.append(np.array(X_train_cur))  \n",
    "                # append very Y by time steps\n",
    "                for y_v in df_current['PerformanceTarget'].iloc[i+1 : (i+ts+1)].values:\n",
    "                    Y_train_cur.append(y_v)\n",
    "                Y_train.append(np.array(Y_train_cur))\n",
    "            \n",
    "            for i in range(df_current_len - ts - 1, df_current_len - ts):\n",
    "                # current slice of input data\n",
    "                X_test_cur = []\n",
    "                Y_test_cur = []\n",
    "                # append every X by time steps\n",
    "                for x_v in df_current['neighbours_index_image'].iloc[i : (i+ts)].values:\n",
    "                    X_test_cur.append(x_v)\n",
    "                    #print(np.array(X_cur).shape)\n",
    "                X_test.append(np.array(X_test_cur))  \n",
    "                # append very Y by time steps\n",
    "                for y_v in df_current['PerformanceTarget'].iloc[i+1 : ].values:\n",
    "                    Y_test_cur.append(y_v)\n",
    "                Y_test.append(np.array(Y_test_cur))\n",
    "        else:\n",
    "            for i in range(df_current_len - ts):\n",
    "                # current slice of input data\n",
    "                X_cur = []\n",
    "                Y_cur = []\n",
    "                # append every X by time steps\n",
    "                for x_v in df_current['neighbours_index_image'].iloc[i : (i+ts)].values:\n",
    "                    X_cur.append(x_v)\n",
    "                    #print(np.array(X_cur).shape)    \n",
    "                X_train.append(np.array(X_cur))\n",
    "                X_test.append(np.array(X_cur))  \n",
    "                # append very Y by time steps\n",
    "                for y_v in df_current['PerformanceTarget'].iloc[i+1 : (i+ts+1)].values:\n",
    "                    Y_cur.append(y_v)\n",
    "                Y_train.append(np.array(Y_cur))\n",
    "                Y_test.append(np.array(Y_cur))      \n",
    "    return (X_train, Y_train, X_test, Y_test)\n",
    "\n",
    "\n",
    "#MAPE loss function self defined for keras\n",
    "def mape_loss(y_true, y_pred):\n",
    "    diff = K.abs((y_true - y_pred) / K.clip(K.abs(y_true),\n",
    "                                            K.epsilon(),\n",
    "                                            None))\n",
    "    return 100. * K.mean(diff, axis=-1)\n",
    "\n",
    "\n",
    "# MAPE loss for calculate test result.\n",
    "def mape(y_p, y):\n",
    "    y[y == 0] = 0.00001\n",
    "    diff = np.abs((y_p - y) / y)\n",
    "    #print(diff)\n",
    "    return 100. * np.mean(diff)\n",
    "\n",
    "\n",
    "\n",
    "# RMSE loss for calculate test result.\n",
    "def rmse(y_p, y):\n",
    "    diff = np.sqrt((y_p - y)**2)# np.sum()\n",
    "    return np.mean(diff)"
   ]
  },
  {
   "cell_type": "code",
   "execution_count": 3,
   "metadata": {},
   "outputs": [],
   "source": [
    "# def CNN_LSTM_MODEL_RMSprop\n",
    "def cnn_on_lstm_rms_model(CONV2D_1_DEPTH, CONV2D_2_DEPTH, CNN_DP, #CNN archi related\n",
    "                          LSTM_DP, LSTM_UNITS, #LSTM archi related# RMSprop related\n",
    "                          inputshapes, loss_fnc):\n",
    "    model = Sequential()\n",
    "    # add two time-distributed convolutional layers for feature extraction\n",
    "    model.add(TimeDistributed(Conv2D(CONV2D_1_DEPTH, (3, 3), activation='relu'), input_shape = inputshapes))\n",
    "    #model.add(TimeDistributed(Conv2D(16, (4, 4), activation='relu')))\n",
    "    model.add(TimeDistributed(Conv2D(CONV2D_2_DEPTH, (5, 5), activation='relu')))\n",
    "\n",
    "\n",
    "    # extract features and dropout \n",
    "    model.add(TimeDistributed(Flatten()))\n",
    "    model.add(Dropout(CNN_DP))\n",
    "    #print(123123123)\n",
    "    # input to LSTM\n",
    "    model.add(LSTM(LSTM_UNITS, return_sequences=True, dropout=LSTM_DP)) #input_shape=(5, 512), \n",
    "    #print(123123123)\n",
    "    # classifier with sigmoid activation for multilabel\n",
    "    model.add(Dense(1, activation='tanh'))\n",
    "    #model.add(TimeDistributed(Dense(1, activation='tanh')))\n",
    "\n",
    "    # compile the model with binary_crossentropy loss for multilabel\n",
    "    #Rmsprop = keras.optimizers.RMSprop(lr=RMSprop_LR, rho=RMSprop_RHO, \n",
    "    #                                   epsilon=None, decay=RMSprop_DECAY)\n",
    "    #model.compile(optimizer= Rmsprop, loss = loss_fnc)\n",
    "    #keras.optimizers.RMSprop(lr=0.001, rho=0.9, epsilon=None, decay=0.0)\n",
    "    model.compile(optimizer= 'rmsprop', loss = mape_loss)\n",
    "    # look at the params before training\n",
    "    #model.summary()\n",
    "    return model"
   ]
  },
  {
   "cell_type": "code",
   "execution_count": 4,
   "metadata": {},
   "outputs": [],
   "source": [
    "def get_performance(num_interates, X_train, Y_train, X_test, Y_test):\n",
    "    \n",
    "    inputshapes = X_train.shape[1:]\n",
    "    cnnlstm_train_mape = []\n",
    "    cnnlstm_test_mape = []\n",
    "    cnnlstm_train_rmse= []\n",
    "    cnnlstm_test_rmse =[]\n",
    "    \n",
    "    cnnlstm_train_error_85 = []\n",
    "    cnnlstm_test_error_85 = []\n",
    "    \n",
    "    for i in range(num_interates):\n",
    "        cnnlstm = cnn_on_lstm_rms_model(64, 64, 0.1, 0.1, 64, inputshapes, mape_loss)\n",
    "        cnnlstm.fit(X_train, Y_train, batch_size = 64,epochs=50,verbose=0) #\n",
    "        \n",
    "        # prediction\n",
    "        Y_train_pred = cnnlstm.predict(X_train)\n",
    "        Y_test_pred = cnnlstm.predict(X_test)\n",
    "        \n",
    "        Y_train_pred = Y_train_pred[:,-1,:].flatten()\n",
    "        Y_train_true = Y_train[:,-1,:].flatten()\n",
    "        Y_test_pred = Y_test_pred[:,-1,:].flatten()\n",
    "        Y_test_true = Y_test[:,-1,:].flatten()\n",
    "        \n",
    "        # mape train\n",
    "        cnnlstm_train_mape.append(mape(Y_train_pred, Y_train_true))\n",
    "        # mape test\n",
    "        cnnlstm_test_mape.append(mape(Y_test_pred, Y_test_true))\n",
    "        # rmse train\n",
    "        cnnlstm_train_rmse.append(rmse(Y_train_pred, Y_train_true))\n",
    "        # rmse test\n",
    "        cnnlstm_test_rmse.append(rmse(Y_test_pred, Y_test_true)) \n",
    "        \n",
    "        cnnlstm_train_error_85.append(Y_train_pred[Y_train_true<0.85] - Y_train_true[Y_train_true<0.85])\n",
    "        cnnlstm_test_error_85.append(Y_test_true[Y_test_true<0.85] - Y_test_true[Y_test_true<0.85])\n",
    "    \n",
    "        if i%10 ==0:\n",
    "            print('Finished {} times'.format(i))\n",
    "    \n",
    "    return(cnnlstm_train_mape, cnnlstm_test_mape, cnnlstm_train_rmse, \n",
    "           cnnlstm_test_rmse, cnnlstm_train_error_85, cnnlstm_test_error_85)"
   ]
  },
  {
   "cell_type": "markdown",
   "metadata": {},
   "source": [
    "### BUILD Image\n"
   ]
  },
  {
   "cell_type": "code",
   "execution_count": 5,
   "metadata": {},
   "outputs": [],
   "source": [
    "def retrive_plg_ix(input_str):\n",
    "    '''\n",
    "    convert coordinates str to list.\n",
    "    \n",
    "    args:\n",
    "    input_str: a pandas row\n",
    "    '''\n",
    "    #print(input_str)\n",
    "    pcoord_ori = input_str.replace('[[','').replace(']]','').split('], [')\n",
    "    pcoord_ori_pais = []\n",
    "    for p in pcoord_ori:\n",
    "        i = [int(i) for i in p.split(',')]\n",
    "        pcoord_ori_pais.append(i)\n",
    "    #print(pcoord_ori_pais)\n",
    "    return pcoord_ori_pais\n",
    "\n",
    "\n",
    "# build up 7*7*3 channel\n",
    "def build_up_image(df, tgrt_df):\n",
    "    '''\n",
    "    This func build up one channel 7*7 'image' data by giving neighbours' id of target, \n",
    "    which will be matching to neighbours and its own performance and density respectively\n",
    "    \n",
    "    Input: \n",
    "    row: dataframe row, target\n",
    "    df: performance and density search scope.\n",
    "    \n",
    "    Output:\n",
    "    A np array with shape 7*7\n",
    "    \n",
    "    '''\n",
    "    third_channel = []\n",
    "    for i in range(df.shape[0]):\n",
    "        #get the neighbout 2-d list\n",
    "        row = df.iloc[i]\n",
    "        neighbours_index_pic =  retrive_plg_ix(row['neighbours_index_pic'])#row['neighbours_index_pic']\n",
    "        #\n",
    "        #matching columns\n",
    "        ReportingMonth = row['ReportingMonth']\n",
    "        IndustryClass = row['IndustryClass']\n",
    "        # define output\n",
    "        image = []\n",
    "        #iterate neighbour to get performance and density value accordingly.\n",
    "        for neighbour_ids in neighbours_index_pic:\n",
    "            for neighbour_id in neighbour_ids:\n",
    "                #get performance:\n",
    "                avg_def = np.nan\n",
    "                try:\n",
    "                    avg_def = tgrt_df['AverageDishonours_norm'].loc[(tgrt_df['FishnetID'] == neighbour_id)&\n",
    "                                               (tgrt_df['ReportingMonth'] == ReportingMonth)&\n",
    "                                               (tgrt_df['IndustryClass'] == IndustryClass)].values.tolist()[0]\n",
    "                except:\n",
    "                    avg_def = np.nan\n",
    "\n",
    "                image.append(avg_def)\n",
    "        #reshape to 7 7\n",
    "        image = np.array(image).reshape(7,7)\n",
    "        third_channel.append(image)\n",
    "        if (i%100) == 0:\n",
    "            print('Finished {} times'.format(i))\n",
    "    return third_channel"
   ]
  },
  {
   "cell_type": "markdown",
   "metadata": {},
   "source": [
    "## Build up 3 channel dataset"
   ]
  },
  {
   "cell_type": "markdown",
   "metadata": {},
   "source": [
    "####  Load new data"
   ]
  },
  {
   "cell_type": "code",
   "execution_count": 74,
   "metadata": {},
   "outputs": [
    {
     "name": "stderr",
     "output_type": "stream",
     "text": [
      "/Users/michael.zhang/anaconda3/lib/python3.6/site-packages/ipykernel_launcher.py:9: FutureWarning: reshape is deprecated and will raise in a subsequent release. Please use .values.reshape(...) instead\n",
      "  if __name__ == '__main__':\n"
     ]
    }
   ],
   "source": [
    "reversedf = pd.read_csv('ReversedTransactions_M.csv').iloc[:,1:]\n",
    "reversedf.columns = ['ReportingMonth', 'FishnetID', 'IndustryClass',\n",
    "                     'TotalDishonours','TotalApps','AverageDishonours',\n",
    "                     'AppsWithDefault']\n",
    "reversedf['ReportingMonth'] = reversedf['ReportingMonth'].apply(lambda x : x.split(' ')[0])\n",
    "\n",
    "#Normalization\n",
    "min_max_scaler = preprocessing.MinMaxScaler()\n",
    "reversedf['AverageDishonours_norm'] = min_max_scaler.fit_transform(reversedf['AverageDishonours'].reshape(-1,1))\n",
    "reversedf = reversedf[['ReportingMonth', 'FishnetID', 'IndustryClass','AverageDishonours','AverageDishonours_norm']]"
   ]
  },
  {
   "cell_type": "markdown",
   "metadata": {},
   "source": [
    "### 1- Hos"
   ]
  },
  {
   "cell_type": "code",
   "execution_count": 18,
   "metadata": {},
   "outputs": [
    {
     "data": {
      "text/html": [
       "<div>\n",
       "<style scoped>\n",
       "    .dataframe tbody tr th:only-of-type {\n",
       "        vertical-align: middle;\n",
       "    }\n",
       "\n",
       "    .dataframe tbody tr th {\n",
       "        vertical-align: top;\n",
       "    }\n",
       "\n",
       "    .dataframe thead th {\n",
       "        text-align: right;\n",
       "    }\n",
       "</style>\n",
       "<table border=\"1\" class=\"dataframe\">\n",
       "  <thead>\n",
       "    <tr style=\"text-align: right;\">\n",
       "      <th></th>\n",
       "      <th>ReportingMonth</th>\n",
       "      <th>FishnetID</th>\n",
       "      <th>IndustryClass</th>\n",
       "      <th>PerformanceTarget</th>\n",
       "      <th>Density</th>\n",
       "      <th>AverageDishonours</th>\n",
       "      <th>AverageDishonours_norm</th>\n",
       "      <th>polygon_coord</th>\n",
       "      <th>neighbours_index_pic</th>\n",
       "    </tr>\n",
       "  </thead>\n",
       "  <tbody>\n",
       "    <tr>\n",
       "      <th>0</th>\n",
       "      <td>2017-06-01</td>\n",
       "      <td>124679</td>\n",
       "      <td>Hospitality</td>\n",
       "      <td>0.9167</td>\n",
       "      <td>1</td>\n",
       "      <td>0.5</td>\n",
       "      <td>0.004545</td>\n",
       "      <td>[[-43.02096703378884, 147.25994151372285], [-4...</td>\n",
       "      <td>[[117311, 117312, 117313, 117314, 117315, 1173...</td>\n",
       "    </tr>\n",
       "    <tr>\n",
       "      <th>1</th>\n",
       "      <td>2017-07-01</td>\n",
       "      <td>124679</td>\n",
       "      <td>Hospitality</td>\n",
       "      <td>1.0000</td>\n",
       "      <td>1</td>\n",
       "      <td>1.0</td>\n",
       "      <td>0.009091</td>\n",
       "      <td>[[-43.02096703378884, 147.25994151372285], [-4...</td>\n",
       "      <td>[[117311, 117312, 117313, 117314, 117315, 1173...</td>\n",
       "    </tr>\n",
       "  </tbody>\n",
       "</table>\n",
       "</div>"
      ],
      "text/plain": [
       "  ReportingMonth  FishnetID IndustryClass  PerformanceTarget  Density  \\\n",
       "0     2017-06-01     124679   Hospitality             0.9167        1   \n",
       "1     2017-07-01     124679   Hospitality             1.0000        1   \n",
       "\n",
       "   AverageDishonours  AverageDishonours_norm  \\\n",
       "0                0.5                0.004545   \n",
       "1                1.0                0.009091   \n",
       "\n",
       "                                       polygon_coord  \\\n",
       "0  [[-43.02096703378884, 147.25994151372285], [-4...   \n",
       "1  [[-43.02096703378884, 147.25994151372285], [-4...   \n",
       "\n",
       "                                neighbours_index_pic  \n",
       "0  [[117311, 117312, 117313, 117314, 117315, 1173...  \n",
       "1  [[117311, 117312, 117313, 117314, 117315, 1173...  "
      ]
     },
     "execution_count": 18,
     "metadata": {},
     "output_type": "execute_result"
    }
   ],
   "source": [
    "\n",
    "hos_df = pd.read_csv('3_hospitality_13months.csv').iloc[:, 1:8]\n",
    "\n",
    "hos_df_merge = pd.merge(hos_df, reversedf, on = ['ReportingMonth', 'FishnetID', 'IndustryClass'], how= 'left')\n",
    "hos_df_merge = hos_df_merge[['ReportingMonth', 'FishnetID', 'IndustryClass',\n",
    "                             'PerformanceTarget','Density',\n",
    "                             'AverageDishonours','AverageDishonours_norm',\n",
    "                             'polygon_coord','neighbours_index_pic']]\n",
    "hos_df_merge.head(2)"
   ]
  },
  {
   "cell_type": "code",
   "execution_count": 30,
   "metadata": {},
   "outputs": [
    {
     "name": "stdout",
     "output_type": "stream",
     "text": [
      "Finished 0 times\n"
     ]
    },
    {
     "data": {
      "text/plain": [
       "array([[       nan,        nan,        nan,        nan,        nan,\n",
       "               nan,        nan],\n",
       "       [       nan,        nan,        nan,        nan,        nan,\n",
       "               nan,        nan],\n",
       "       [       nan,        nan,        nan,        nan,        nan,\n",
       "               nan,        nan],\n",
       "       [       nan,        nan,        nan, 0.00454545,        nan,\n",
       "               nan,        nan],\n",
       "       [       nan,        nan,        nan,        nan,        nan,\n",
       "               nan,        nan],\n",
       "       [       nan,        nan,        nan,        nan,        nan,\n",
       "               nan,        nan],\n",
       "       [       nan,        nan,        nan,        nan,        nan,\n",
       "               nan,        nan]])"
      ]
     },
     "execution_count": 30,
     "metadata": {},
     "output_type": "execute_result"
    }
   ],
   "source": [
    "k = build_up_image(hos_df_merge.iloc[:2],reversedf) \n",
    "k_t = np.array(k).reshape(-1,7,7)\n",
    "k_t[0]"
   ]
  },
  {
   "cell_type": "code",
   "execution_count": 26,
   "metadata": {},
   "outputs": [
    {
     "name": "stdout",
     "output_type": "stream",
     "text": [
      "Finished 0 times\n",
      "Finished 100 times\n",
      "Finished 200 times\n",
      "Finished 300 times\n",
      "Finished 400 times\n",
      "Finished 500 times\n",
      "Finished 600 times\n",
      "Finished 700 times\n",
      "Finished 800 times\n",
      "Finished 900 times\n",
      "Finished 1000 times\n",
      "Finished 1100 times\n",
      "Finished 1200 times\n",
      "Finished 1300 times\n",
      "Finished 1400 times\n",
      "Finished 1500 times\n",
      "Finished 1600 times\n",
      "Finished 1700 times\n",
      "Finished 1800 times\n",
      "Finished 1900 times\n",
      "Finished 2000 times\n",
      "Finished 2100 times\n",
      "Finished 2200 times\n",
      "Finished 2300 times\n",
      "Finished 2400 times\n",
      "Finished 2500 times\n",
      "Finished 2600 times\n",
      "Finished 2700 times\n",
      "Finished 2800 times\n",
      "Finished 2900 times\n",
      "Finished 3000 times\n",
      "Finished 3100 times\n",
      "Finished 3200 times\n",
      "Finished 3300 times\n",
      "Finished 3400 times\n",
      "Finished 3500 times\n",
      "Finished 3600 times\n",
      "Finished 3700 times\n",
      "Finished 3800 times\n",
      "Finished 3900 times\n",
      "Finished 4000 times\n",
      "Finished 4100 times\n",
      "Finished 4200 times\n",
      "Finished 4300 times\n",
      "Finished 4400 times\n"
     ]
    },
    {
     "data": {
      "text/plain": [
       "(4459, 7, 7)"
      ]
     },
     "execution_count": 26,
     "metadata": {},
     "output_type": "execute_result"
    }
   ],
   "source": [
    "hos_3_channel_all = build_up_image(hos_df_merge,reversedf) \n",
    "hos_3_channel_all_res = np.array(hos_3_channel_all).reshape(-1,7,7)\n",
    "hos_3_channel_all_res.shape"
   ]
  },
  {
   "cell_type": "code",
   "execution_count": 28,
   "metadata": {},
   "outputs": [
    {
     "data": {
      "text/plain": [
       "(4459, 7, 7, 3)"
      ]
     },
     "execution_count": 28,
     "metadata": {},
     "output_type": "execute_result"
    }
   ],
   "source": [
    "#test = np.zeros((7,7,2))\n",
    "#test_3 = np.ones((7,7))\n",
    "#k = np.concatenate((test, test_3[:,:,np.newaxis]),axis=-1)\n",
    "neighbours_index_image_arys = cpik.load(open(\"3_hospitality_13months.pkl\", \"rb\" ))\n",
    "neighbours_index_image_arys_3c = np.concatenate((neighbours_index_image_arys, hos_3_channel_all_res[:,:,:,np.newaxis]),axis=-1)\n",
    "neighbours_index_image_arys_3c.shape"
   ]
  },
  {
   "cell_type": "code",
   "execution_count": 34,
   "metadata": {},
   "outputs": [
    {
     "data": {
      "text/plain": [
       "numpy.ndarray"
      ]
     },
     "execution_count": 34,
     "metadata": {},
     "output_type": "execute_result"
    }
   ],
   "source": [
    "cpik.dump(neighbours_index_image_arys_3c, open( \"3_hospitality_13months_3channel.pkl\", \"wb\" )) \n",
    "\n",
    "neighbours_index_image_arys_3c_t = cpik.load( open( \"3_hospitality_13months_3channel.pkl\", \"rb\" ) )\n",
    "type(neighbours_index_image_arys_3c_t[0])"
   ]
  },
  {
   "cell_type": "markdown",
   "metadata": {},
   "source": [
    "### 2- Ret"
   ]
  },
  {
   "cell_type": "code",
   "execution_count": 35,
   "metadata": {},
   "outputs": [
    {
     "data": {
      "text/html": [
       "<div>\n",
       "<style scoped>\n",
       "    .dataframe tbody tr th:only-of-type {\n",
       "        vertical-align: middle;\n",
       "    }\n",
       "\n",
       "    .dataframe tbody tr th {\n",
       "        vertical-align: top;\n",
       "    }\n",
       "\n",
       "    .dataframe thead th {\n",
       "        text-align: right;\n",
       "    }\n",
       "</style>\n",
       "<table border=\"1\" class=\"dataframe\">\n",
       "  <thead>\n",
       "    <tr style=\"text-align: right;\">\n",
       "      <th></th>\n",
       "      <th>ReportingMonth</th>\n",
       "      <th>FishnetID</th>\n",
       "      <th>IndustryClass</th>\n",
       "      <th>PerformanceTarget</th>\n",
       "      <th>Density</th>\n",
       "      <th>AverageDishonours</th>\n",
       "      <th>AverageDishonours_norm</th>\n",
       "      <th>polygon_coord</th>\n",
       "      <th>neighbours_index_pic</th>\n",
       "    </tr>\n",
       "  </thead>\n",
       "  <tbody>\n",
       "    <tr>\n",
       "      <th>0</th>\n",
       "      <td>2017-06-01</td>\n",
       "      <td>144322</td>\n",
       "      <td>Retail</td>\n",
       "      <td>1.0</td>\n",
       "      <td>1</td>\n",
       "      <td>NaN</td>\n",
       "      <td>NaN</td>\n",
       "      <td>[[-42.89947681409741, 147.32018776414708], [-4...</td>\n",
       "      <td>[[136954, 136955, 136956, 136957, 136958, 1369...</td>\n",
       "    </tr>\n",
       "    <tr>\n",
       "      <th>1</th>\n",
       "      <td>2017-07-01</td>\n",
       "      <td>144322</td>\n",
       "      <td>Retail</td>\n",
       "      <td>1.0</td>\n",
       "      <td>1</td>\n",
       "      <td>0.0</td>\n",
       "      <td>0.0</td>\n",
       "      <td>[[-42.89947681409741, 147.32018776414708], [-4...</td>\n",
       "      <td>[[136954, 136955, 136956, 136957, 136958, 1369...</td>\n",
       "    </tr>\n",
       "  </tbody>\n",
       "</table>\n",
       "</div>"
      ],
      "text/plain": [
       "  ReportingMonth  FishnetID IndustryClass  PerformanceTarget  Density  \\\n",
       "0     2017-06-01     144322        Retail                1.0        1   \n",
       "1     2017-07-01     144322        Retail                1.0        1   \n",
       "\n",
       "   AverageDishonours  AverageDishonours_norm  \\\n",
       "0                NaN                     NaN   \n",
       "1                0.0                     0.0   \n",
       "\n",
       "                                       polygon_coord  \\\n",
       "0  [[-42.89947681409741, 147.32018776414708], [-4...   \n",
       "1  [[-42.89947681409741, 147.32018776414708], [-4...   \n",
       "\n",
       "                                neighbours_index_pic  \n",
       "0  [[136954, 136955, 136956, 136957, 136958, 1369...  \n",
       "1  [[136954, 136955, 136956, 136957, 136958, 1369...  "
      ]
     },
     "execution_count": 35,
     "metadata": {},
     "output_type": "execute_result"
    }
   ],
   "source": [
    "ret_df = pd.read_csv('4_retail_13months.csv').iloc[:, 1:8]\n",
    "\n",
    "ret_df_merge = pd.merge(ret_df, reversedf, on = ['ReportingMonth', 'FishnetID', 'IndustryClass'], how= 'left')\n",
    "ret_df_merge = ret_df_merge[['ReportingMonth', 'FishnetID', 'IndustryClass',\n",
    "                             'PerformanceTarget','Density',\n",
    "                             'AverageDishonours','AverageDishonours_norm',\n",
    "                             'polygon_coord','neighbours_index_pic']]\n",
    "ret_df_merge.head(2)"
   ]
  },
  {
   "cell_type": "code",
   "execution_count": 36,
   "metadata": {},
   "outputs": [
    {
     "name": "stdout",
     "output_type": "stream",
     "text": [
      "Finished 0 times\n",
      "Finished 100 times\n",
      "Finished 200 times\n",
      "Finished 300 times\n",
      "Finished 400 times\n",
      "Finished 500 times\n",
      "Finished 600 times\n",
      "Finished 700 times\n",
      "Finished 800 times\n",
      "Finished 900 times\n",
      "Finished 1000 times\n",
      "Finished 1100 times\n",
      "Finished 1200 times\n",
      "Finished 1300 times\n",
      "Finished 1400 times\n",
      "Finished 1500 times\n",
      "Finished 1600 times\n",
      "Finished 1700 times\n",
      "Finished 1800 times\n",
      "Finished 1900 times\n",
      "Finished 2000 times\n",
      "Finished 2100 times\n",
      "Finished 2200 times\n",
      "Finished 2300 times\n",
      "Finished 2400 times\n",
      "Finished 2500 times\n",
      "Finished 2600 times\n",
      "Finished 2700 times\n",
      "Finished 2800 times\n",
      "Finished 2900 times\n",
      "Finished 3000 times\n",
      "Finished 3100 times\n",
      "Finished 3200 times\n",
      "Finished 3300 times\n",
      "Finished 3400 times\n",
      "Finished 3500 times\n",
      "Finished 3600 times\n",
      "Finished 3700 times\n",
      "Finished 3800 times\n",
      "Finished 3900 times\n",
      "Finished 4000 times\n",
      "Finished 4100 times\n",
      "Finished 4200 times\n"
     ]
    },
    {
     "data": {
      "text/plain": [
       "(4212, 7, 7)"
      ]
     },
     "execution_count": 36,
     "metadata": {},
     "output_type": "execute_result"
    }
   ],
   "source": [
    "ret_3_channel_all = build_up_image(ret_df_merge,reversedf) \n",
    "ret_3_channel_all_res = np.array(ret_3_channel_all).reshape(-1,7,7)\n",
    "ret_3_channel_all_res.shape"
   ]
  },
  {
   "cell_type": "code",
   "execution_count": 37,
   "metadata": {},
   "outputs": [
    {
     "data": {
      "text/plain": [
       "(4212, 7, 7, 3)"
      ]
     },
     "execution_count": 37,
     "metadata": {},
     "output_type": "execute_result"
    }
   ],
   "source": [
    "neighbours_index_image_arys = cpik.load(open(\"4_retail_13months.pkl\", \"rb\" ))\n",
    "neighbours_index_image_arys_3c = np.concatenate((neighbours_index_image_arys, ret_3_channel_all_res[:,:,:,np.newaxis]),axis=-1)\n",
    "neighbours_index_image_arys_3c.shape"
   ]
  },
  {
   "cell_type": "code",
   "execution_count": 38,
   "metadata": {},
   "outputs": [
    {
     "data": {
      "text/plain": [
       "numpy.ndarray"
      ]
     },
     "execution_count": 38,
     "metadata": {},
     "output_type": "execute_result"
    }
   ],
   "source": [
    "cpik.dump(neighbours_index_image_arys_3c, open( \"4_retail_13months_3channel.pkl\", \"wb\" )) \n",
    "\n",
    "neighbours_index_image_arys_3c_t = cpik.load( open( \"4_retail_13months_3channel.pkl\", \"rb\" ) )\n",
    "type(neighbours_index_image_arys_3c_t[0])"
   ]
  },
  {
   "cell_type": "markdown",
   "metadata": {},
   "source": [
    "### 3- Bud"
   ]
  },
  {
   "cell_type": "code",
   "execution_count": 39,
   "metadata": {},
   "outputs": [
    {
     "data": {
      "text/html": [
       "<div>\n",
       "<style scoped>\n",
       "    .dataframe tbody tr th:only-of-type {\n",
       "        vertical-align: middle;\n",
       "    }\n",
       "\n",
       "    .dataframe tbody tr th {\n",
       "        vertical-align: top;\n",
       "    }\n",
       "\n",
       "    .dataframe thead th {\n",
       "        text-align: right;\n",
       "    }\n",
       "</style>\n",
       "<table border=\"1\" class=\"dataframe\">\n",
       "  <thead>\n",
       "    <tr style=\"text-align: right;\">\n",
       "      <th></th>\n",
       "      <th>ReportingMonth</th>\n",
       "      <th>FishnetID</th>\n",
       "      <th>IndustryClass</th>\n",
       "      <th>PerformanceTarget</th>\n",
       "      <th>Density</th>\n",
       "      <th>AverageDishonours</th>\n",
       "      <th>AverageDishonours_norm</th>\n",
       "      <th>polygon_coord</th>\n",
       "      <th>neighbours_index_pic</th>\n",
       "    </tr>\n",
       "  </thead>\n",
       "  <tbody>\n",
       "    <tr>\n",
       "      <th>0</th>\n",
       "      <td>2017-06-01</td>\n",
       "      <td>127137</td>\n",
       "      <td>Building and Trade</td>\n",
       "      <td>0.9415</td>\n",
       "      <td>1</td>\n",
       "      <td>0.000000</td>\n",
       "      <td>0.00000</td>\n",
       "      <td>[[-43.005793875790005, 147.32018776414708], [-...</td>\n",
       "      <td>[[119769, 119770, 119771, 119772, 119773, 1197...</td>\n",
       "    </tr>\n",
       "    <tr>\n",
       "      <th>1</th>\n",
       "      <td>2017-07-01</td>\n",
       "      <td>127137</td>\n",
       "      <td>Building and Trade</td>\n",
       "      <td>0.9657</td>\n",
       "      <td>2</td>\n",
       "      <td>0.333333</td>\n",
       "      <td>0.00303</td>\n",
       "      <td>[[-43.005793875790005, 147.32018776414708], [-...</td>\n",
       "      <td>[[119769, 119770, 119771, 119772, 119773, 1197...</td>\n",
       "    </tr>\n",
       "  </tbody>\n",
       "</table>\n",
       "</div>"
      ],
      "text/plain": [
       "  ReportingMonth  FishnetID       IndustryClass  PerformanceTarget  Density  \\\n",
       "0     2017-06-01     127137  Building and Trade             0.9415        1   \n",
       "1     2017-07-01     127137  Building and Trade             0.9657        2   \n",
       "\n",
       "   AverageDishonours  AverageDishonours_norm  \\\n",
       "0           0.000000                 0.00000   \n",
       "1           0.333333                 0.00303   \n",
       "\n",
       "                                       polygon_coord  \\\n",
       "0  [[-43.005793875790005, 147.32018776414708], [-...   \n",
       "1  [[-43.005793875790005, 147.32018776414708], [-...   \n",
       "\n",
       "                                neighbours_index_pic  \n",
       "0  [[119769, 119770, 119771, 119772, 119773, 1197...  \n",
       "1  [[119769, 119770, 119771, 119772, 119773, 1197...  "
      ]
     },
     "execution_count": 39,
     "metadata": {},
     "output_type": "execute_result"
    }
   ],
   "source": [
    "bud_df = pd.read_csv('1_building_13months.csv').iloc[:, 1:8]\n",
    "\n",
    "bud_df_merge = pd.merge(bud_df, reversedf, on = ['ReportingMonth', 'FishnetID', 'IndustryClass'], how= 'left')\n",
    "bud_df_merge = bud_df_merge[['ReportingMonth', 'FishnetID', 'IndustryClass',\n",
    "                             'PerformanceTarget','Density',\n",
    "                             'AverageDishonours','AverageDishonours_norm',\n",
    "                             'polygon_coord','neighbours_index_pic']]\n",
    "bud_df_merge.head(2)"
   ]
  },
  {
   "cell_type": "code",
   "execution_count": 40,
   "metadata": {},
   "outputs": [
    {
     "name": "stdout",
     "output_type": "stream",
     "text": [
      "Finished 0 times\n",
      "Finished 100 times\n",
      "Finished 200 times\n",
      "Finished 300 times\n",
      "Finished 400 times\n",
      "Finished 500 times\n",
      "Finished 600 times\n",
      "Finished 700 times\n",
      "Finished 800 times\n",
      "Finished 900 times\n",
      "Finished 1000 times\n",
      "Finished 1100 times\n",
      "Finished 1200 times\n",
      "Finished 1300 times\n",
      "Finished 1400 times\n",
      "Finished 1500 times\n",
      "Finished 1600 times\n",
      "Finished 1700 times\n",
      "Finished 1800 times\n",
      "Finished 1900 times\n",
      "Finished 2000 times\n",
      "Finished 2100 times\n",
      "Finished 2200 times\n",
      "Finished 2300 times\n",
      "Finished 2400 times\n",
      "Finished 2500 times\n",
      "Finished 2600 times\n",
      "Finished 2700 times\n",
      "Finished 2800 times\n",
      "Finished 2900 times\n",
      "Finished 3000 times\n",
      "Finished 3100 times\n",
      "Finished 3200 times\n",
      "Finished 3300 times\n",
      "Finished 3400 times\n",
      "Finished 3500 times\n",
      "Finished 3600 times\n",
      "Finished 3700 times\n",
      "Finished 3800 times\n",
      "Finished 3900 times\n",
      "Finished 4000 times\n",
      "Finished 4100 times\n",
      "Finished 4200 times\n",
      "Finished 4300 times\n",
      "Finished 4400 times\n"
     ]
    },
    {
     "data": {
      "text/plain": [
       "(4498, 7, 7)"
      ]
     },
     "execution_count": 40,
     "metadata": {},
     "output_type": "execute_result"
    }
   ],
   "source": [
    "bud_3_channel_all = build_up_image(bud_df_merge,reversedf) \n",
    "bud_3_channel_all_res = np.array(bud_3_channel_all).reshape(-1,7,7)\n",
    "bud_3_channel_all_res.shape"
   ]
  },
  {
   "cell_type": "code",
   "execution_count": 41,
   "metadata": {},
   "outputs": [
    {
     "data": {
      "text/plain": [
       "(4498, 7, 7, 3)"
      ]
     },
     "execution_count": 41,
     "metadata": {},
     "output_type": "execute_result"
    }
   ],
   "source": [
    "neighbours_index_image_arys = cpik.load(open(\"1_building_13months.pkl\", \"rb\" ))\n",
    "neighbours_index_image_arys_3c = np.concatenate((neighbours_index_image_arys, bud_3_channel_all_res[:,:,:,np.newaxis]),axis=-1)\n",
    "neighbours_index_image_arys_3c.shape"
   ]
  },
  {
   "cell_type": "code",
   "execution_count": 42,
   "metadata": {},
   "outputs": [
    {
     "data": {
      "text/plain": [
       "numpy.ndarray"
      ]
     },
     "execution_count": 42,
     "metadata": {},
     "output_type": "execute_result"
    }
   ],
   "source": [
    "cpik.dump(neighbours_index_image_arys_3c, open( \"1_building_13months_3channel.pkl\", \"wb\" )) \n",
    "\n",
    "neighbours_index_image_arys_3c_t = cpik.load( open( \"1_building_13months_3channel.pkl\", \"rb\" ) )\n",
    "type(neighbours_index_image_arys_3c_t[0])"
   ]
  },
  {
   "cell_type": "markdown",
   "metadata": {},
   "source": [
    "### 4- prof"
   ]
  },
  {
   "cell_type": "code",
   "execution_count": 77,
   "metadata": {},
   "outputs": [
    {
     "data": {
      "text/plain": [
       "(4303, 9)"
      ]
     },
     "execution_count": 77,
     "metadata": {},
     "output_type": "execute_result"
    }
   ],
   "source": [
    "pro_df = pd.read_csv('2_profession_13months.csv').iloc[:, 1:8]\n",
    "\n",
    "pro_df_merge = pd.merge(pro_df, reversedf, on = ['ReportingMonth', 'FishnetID', 'IndustryClass'], how= 'left')\n",
    "pro_df_merge = pro_df_merge[['ReportingMonth', 'FishnetID', 'IndustryClass',\n",
    "                             'PerformanceTarget','Density',\n",
    "                             'AverageDishonours','AverageDishonours_norm',\n",
    "                             'polygon_coord','neighbours_index_pic']]\n",
    "pro_df_merge.shape"
   ]
  },
  {
   "cell_type": "code",
   "execution_count": 78,
   "metadata": {},
   "outputs": [
    {
     "name": "stdout",
     "output_type": "stream",
     "text": [
      "Finished 0 times\n",
      "Finished 100 times\n",
      "Finished 200 times\n",
      "Finished 300 times\n",
      "Finished 400 times\n",
      "Finished 500 times\n",
      "Finished 600 times\n",
      "Finished 700 times\n",
      "Finished 800 times\n",
      "Finished 900 times\n",
      "Finished 1000 times\n",
      "Finished 1100 times\n",
      "Finished 1200 times\n",
      "Finished 1300 times\n",
      "Finished 1400 times\n",
      "Finished 1500 times\n",
      "Finished 1600 times\n",
      "Finished 1700 times\n",
      "Finished 1800 times\n",
      "Finished 1900 times\n",
      "Finished 2000 times\n",
      "Finished 2100 times\n",
      "Finished 2200 times\n",
      "Finished 2300 times\n",
      "Finished 2400 times\n",
      "Finished 2500 times\n",
      "Finished 2600 times\n",
      "Finished 2700 times\n",
      "Finished 2800 times\n",
      "Finished 2900 times\n",
      "Finished 3000 times\n",
      "Finished 3100 times\n",
      "Finished 3200 times\n",
      "Finished 3300 times\n",
      "Finished 3400 times\n",
      "Finished 3500 times\n",
      "Finished 3600 times\n",
      "Finished 3700 times\n",
      "Finished 3800 times\n",
      "Finished 3900 times\n",
      "Finished 4000 times\n",
      "Finished 4100 times\n",
      "Finished 4200 times\n",
      "Finished 4300 times\n"
     ]
    },
    {
     "data": {
      "text/plain": [
       "(4303, 7, 7)"
      ]
     },
     "execution_count": 78,
     "metadata": {},
     "output_type": "execute_result"
    }
   ],
   "source": [
    "pro_3_channel_all = build_up_image(pro_df_merge,reversedf) \n",
    "pro_3_channel_all_res = np.array(pro_3_channel_all).reshape(-1,7,7)\n",
    "pro_3_channel_all_res.shape"
   ]
  },
  {
   "cell_type": "code",
   "execution_count": 79,
   "metadata": {},
   "outputs": [
    {
     "data": {
      "text/plain": [
       "(4303, 7, 7, 3)"
      ]
     },
     "execution_count": 79,
     "metadata": {},
     "output_type": "execute_result"
    }
   ],
   "source": [
    "neighbours_index_image_arys = cpik.load(open(\"2_profession_13months.pkl\", \"rb\" ))\n",
    "neighbours_index_image_arys_3c = np.concatenate((neighbours_index_image_arys, pro_3_channel_all_res[:,:,:,np.newaxis]),axis=-1)\n",
    "neighbours_index_image_arys_3c.shape"
   ]
  },
  {
   "cell_type": "code",
   "execution_count": 80,
   "metadata": {},
   "outputs": [
    {
     "data": {
      "text/plain": [
       "numpy.ndarray"
      ]
     },
     "execution_count": 80,
     "metadata": {},
     "output_type": "execute_result"
    }
   ],
   "source": [
    "cpik.dump(neighbours_index_image_arys_3c, open( \"2_profession_13months_3channel.pkl\", \"wb\" )) \n",
    "\n",
    "neighbours_index_image_arys_3c_t = cpik.load( open( \"2_profession_13months_3channel.pkl\", \"rb\" ) )\n",
    "type(neighbours_index_image_arys_3c_t[0])"
   ]
  },
  {
   "cell_type": "code",
   "execution_count": 8,
   "metadata": {},
   "outputs": [],
   "source": [
    "ts=3"
   ]
  },
  {
   "cell_type": "markdown",
   "metadata": {},
   "source": [
    "## Save model "
   ]
  },
  {
   "cell_type": "markdown",
   "metadata": {},
   "source": [
    "##  1- Hospitilaty\n",
    "\n",
    "   ### (3, 64, 64, 0.1, 0.1, 16)"
   ]
  },
  {
   "cell_type": "code",
   "execution_count": 6,
   "metadata": {},
   "outputs": [
    {
     "name": "stdout",
     "output_type": "stream",
     "text": [
      "(4459,) (7, 7, 3)\n"
     ]
    }
   ],
   "source": [
    "hos_df = pd.read_csv('3_hospitality_13months.csv').iloc[:, 1:8]\n",
    "\n",
    "neighbours_index_image_arys = cpik.load(open(\"3_hospitality_13months_3channel.pkl\", \"rb\" ))\n",
    "hos_df['neighbours_index_image'] = neighbours_index_image_arys.tolist()\n",
    "hos_df['neighbours_index_image'] = hos_df['neighbours_index_image'].apply(lambda x : np.array(x))\n",
    "print(hos_df['neighbours_index_image'].shape, hos_df['neighbours_index_image'].iloc[0].shape)"
   ]
  },
  {
   "cell_type": "code",
   "execution_count": 9,
   "metadata": {},
   "outputs": [],
   "source": [
    "# Build up dateset\n",
    "X_train_hos, Y_train_hos, X_test_hos, Y_test_hos= build_dl_dataset_by_ts(hos_df, ts)\n",
    "X_train_hos = np.array(X_train_hos)\n",
    "X_train_hos= np.nan_to_num(X_train_hos)\n",
    "\n",
    "Y_train_hos = np.array(Y_train_hos)\n",
    "Y_train_hos = Y_train_hos.reshape(Y_train_hos.shape[0],Y_train_hos.shape[1],1)\n",
    "Y_train_hos= np.nan_to_num(Y_train_hos)\n",
    "\n",
    "\n",
    "X_test_hos = np.array(X_test_hos)\n",
    "X_test_hos= np.nan_to_num(X_test_hos)\n",
    "\n",
    "Y_test_hos = np.array(Y_test_hos)\n",
    "Y_test_hos = Y_test_hos.reshape(Y_test_hos.shape[0],Y_test_hos.shape[1],1)\n",
    "Y_test_hos= np.nan_to_num(Y_test_hos)"
   ]
  },
  {
   "cell_type": "code",
   "execution_count": 10,
   "metadata": {},
   "outputs": [
    {
     "name": "stdout",
     "output_type": "stream",
     "text": [
      "(3087, 3, 7, 7, 3) (3087, 3, 1) (343, 3, 7, 7, 3) (343, 3, 1)\n"
     ]
    }
   ],
   "source": [
    "print(X_train_hos.shape, Y_train_hos.shape, X_test_hos.shape, Y_test_hos.shape)"
   ]
  },
  {
   "cell_type": "code",
   "execution_count": 68,
   "metadata": {},
   "outputs": [
    {
     "name": "stdout",
     "output_type": "stream",
     "text": [
      "Finished 0 times\n",
      "Finished 10 times\n"
     ]
    }
   ],
   "source": [
    "#hos_train_mape, hos_test_mape, hos_train_rmse, \\\n",
    "#hos_test_rmse, hos_train_error85, hos_test_error85 = \\\n",
    "#get_performance(20, X_train_hos, Y_train_hos, X_test_hos, Y_test_hos)\n",
    "\n",
    "model.save('my_model.h5')\n",
    "\n",
    "# Deletes the existing model\n",
    "del model  \n",
    "\n",
    "# Returns a compiled model identical to the previous one\n",
    "model = load_model('my_model.h5')"
   ]
  },
  {
   "cell_type": "code",
   "execution_count": 51,
   "metadata": {},
   "outputs": [
    {
     "name": "stdout",
     "output_type": "stream",
     "text": [
      "<class 'keras.engine.sequential.Sequential'>\n"
     ]
    }
   ],
   "source": [
    "inputshapes = X_train_hos.shape[1:]\n",
    "cnnlstm = cnn_on_lstm_rms_model(64, 64, 0.1, 0.1, 16, inputshapes, mape_loss)\n",
    "cnnlstm.fit(X_train_hos, Y_train_hos, batch_size = 64,epochs=50,verbose=0) #\n",
    "print(type(cnnlstm))"
   ]
  },
  {
   "cell_type": "code",
   "execution_count": 52,
   "metadata": {},
   "outputs": [
    {
     "data": {
      "text/plain": [
       "<keras.engine.sequential.Sequential at 0x1a3115c7b8>"
      ]
     },
     "execution_count": 52,
     "metadata": {},
     "output_type": "execute_result"
    }
   ],
   "source": [
    "cnnlstm"
   ]
  },
  {
   "cell_type": "code",
   "execution_count": 53,
   "metadata": {},
   "outputs": [],
   "source": [
    "cnnlstm.save('hospitality_DL.h5')\n",
    "del cnnlstm  "
   ]
  },
  {
   "cell_type": "code",
   "execution_count": 54,
   "metadata": {},
   "outputs": [],
   "source": [
    "cnnlstm = load_model('hospitality_DL.h5', custom_objects={'mape_loss': mape_loss})"
   ]
  },
  {
   "cell_type": "code",
   "execution_count": 55,
   "metadata": {},
   "outputs": [],
   "source": [
    "\n",
    "Y_train_hos_pred = cnnlstm.predict(X_train_hos)\n",
    "Y_test_hos_pred = cnnlstm.predict(X_test_hos)\n",
    "\n",
    "Y_train_hos_pred = Y_train_hos_pred[:,-1,:].flatten()\n",
    "Y_train_hos_true = Y_train_hos[:,-1,:].flatten()\n",
    "\n",
    "Y_test_hos_pred = Y_test_hos_pred[:,-1,:].flatten()\n",
    "Y_test_hos_true = Y_test_hos[:,-1,:].flatten()\n",
    "\n",
    "\n",
    "# mape train\n",
    "hos_train_mape = mape(Y_train_hos_pred, Y_train_hos_true)\n",
    "\n",
    "# mape test\n",
    "hos_test_mape = mape(Y_test_hos_pred, Y_test_hos_true)\n",
    "\n",
    "\n",
    "# rmse train\n",
    "hos_train_rmse = rmse(Y_train_hos_pred, Y_train_hos_true)\n",
    "\n",
    "# rmse test\n",
    "hos_test_rmse = rmse(Y_test_hos_pred, Y_test_hos_true)"
   ]
  },
  {
   "cell_type": "code",
   "execution_count": 56,
   "metadata": {},
   "outputs": [
    {
     "name": "stdout",
     "output_type": "stream",
     "text": [
      "2.128412610127082\n"
     ]
    },
    {
     "data": {
      "image/png": "[encoded data removed]",
      "text/plain": [
       "<matplotlib.figure.Figure at 0x1a32ac7470>"
      ]
     },
     "metadata": {},
     "output_type": "display_data"
    },
    {
     "name": "stderr",
     "output_type": "stream",
     "text": [
      "/Users/michael.zhang/anaconda3/lib/python3.6/site-packages/numpy/core/fromnumeric.py:3194: RuntimeWarning: Degrees of freedom <= 0 for slice\n",
      "  **kwargs)\n",
      "/Users/michael.zhang/anaconda3/lib/python3.6/site-packages/numpy/core/_methods.py:127: RuntimeWarning: invalid value encountered in double_scalars\n",
      "  ret = ret.dtype.type(ret / rcount)\n"
     ]
    },
    {
     "data": {
      "text/plain": [
       "DescribeResult(nobs=1, minmax=(2.128412610127082, 2.128412610127082), mean=2.128412610127082, variance=nan, skewness=0.0, kurtosis=-3.0)"
      ]
     },
     "execution_count": 56,
     "metadata": {},
     "output_type": "execute_result"
    }
   ],
   "source": [
    "from matplotlib import pyplot as plt\n",
    "from scipy import stats\n",
    "#hos_train_mape_new = [hos_train_mape[i] for i in range(0,len(hos_train_mape),4)]\n",
    "print(np.mean(hos_train_mape))\n",
    "plt.hist(np.array(hos_train_mape), bins='auto')\n",
    "plt.show()\n",
    "    \n",
    "stats.describe(hos_train_mape)"
   ]
  },
  {
   "cell_type": "code",
   "execution_count": 70,
   "metadata": {},
   "outputs": [
    {
     "name": "stdout",
     "output_type": "stream",
     "text": [
      "0.020965938950830345\n"
     ]
    },
    {
     "data": {
      "image/png": "[encoded data removed]",
      "text/plain": [
       "<matplotlib.figure.Figure at 0x1a9f5f29e8>"
      ]
     },
     "metadata": {},
     "output_type": "display_data"
    },
    {
     "data": {
      "text/plain": [
       "DescribeResult(nobs=20, minmax=(0.01768131456557392, 0.031794319243132974), mean=0.020965938950830345, variance=1.308783656381357e-05, skewness=1.7451639048745087, kurtosis=2.4587664527024886)"
      ]
     },
     "execution_count": 70,
     "metadata": {},
     "output_type": "execute_result"
    }
   ],
   "source": [
    "print(np.mean(hos_train_rmse))\n",
    "plt.hist(np.array(hos_train_rmse), bins='auto')\n",
    "plt.show()\n",
    "\n",
    "stats.describe(hos_train_rmse)"
   ]
  },
  {
   "cell_type": "code",
   "execution_count": 71,
   "metadata": {},
   "outputs": [
    {
     "data": {
      "text/plain": [
       "54.85"
      ]
     },
     "execution_count": 71,
     "metadata": {},
     "output_type": "execute_result"
    }
   ],
   "source": [
    "k = [hos_train_error85[i][(hos_train_error85[i]>0.1) | (hos_train_error85[i]<-0.1)].shape[0] for i in range(len(hos_train_error85))]\n",
    "\n",
    "np.mean(k)"
   ]
  },
  {
   "cell_type": "code",
   "execution_count": 72,
   "metadata": {},
   "outputs": [
    {
     "data": {
      "image/png": "[encoded data removed]",
      "text/plain": [
       "<matplotlib.figure.Figure at 0x1a80b35940>"
      ]
     },
     "metadata": {},
     "output_type": "display_data"
    }
   ],
   "source": [
    "plt.hist(k, bins='auto')\n",
    "plt.show()"
   ]
  },
  {
   "cell_type": "code",
   "execution_count": 73,
   "metadata": {},
   "outputs": [
    {
     "data": {
      "text/plain": [
       "2.5546562641219346"
      ]
     },
     "execution_count": 73,
     "metadata": {},
     "output_type": "execute_result"
    }
   ],
   "source": [
    "np.median(hos_train_mape)"
   ]
  },
  {
   "cell_type": "code",
   "execution_count": 74,
   "metadata": {},
   "outputs": [],
   "source": [
    "cpik.dump(hos_train_mape, open( \"inside compare/hos/20/3_Hospitality_3channel_mape.pkl\", \"wb\" )) \n",
    "cpik.dump(hos_train_rmse, open( \"inside compare/hos/20/3_Hospitality_3channel_rmse.pkl\", \"wb\" )) \n",
    "cpik.dump(hos_train_error85, open( \"inside compare/hos/20/3_Hospitality_3channel_error85.pkl\", \"wb\" )) "
   ]
  },
  {
   "cell_type": "markdown",
   "metadata": {},
   "source": [
    "##  2- Retail"
   ]
  },
  {
   "cell_type": "code",
   "execution_count": 38,
   "metadata": {},
   "outputs": [
    {
     "name": "stdout",
     "output_type": "stream",
     "text": [
      "(4212,) (7, 7, 3)\n"
     ]
    }
   ],
   "source": [
    "ret_df = pd.read_csv('4_retail_13months.csv').iloc[:, 1:8]\n",
    "\n",
    "neighbours_index_image_arys = cpik.load(open(\"4_retail_13months_3channel.pkl\", \"rb\" ))\n",
    "ret_df['neighbours_index_image'] = neighbours_index_image_arys.tolist()\n",
    "ret_df['neighbours_index_image'] = ret_df['neighbours_index_image'].apply(lambda x : np.array(x))\n",
    "print(ret_df['neighbours_index_image'].shape, ret_df['neighbours_index_image'].iloc[0].shape)\n",
    "ts = 3"
   ]
  },
  {
   "cell_type": "code",
   "execution_count": 39,
   "metadata": {},
   "outputs": [],
   "source": [
    "# Build up dateset\n",
    "X_train_ret, Y_train_ret, X_test_ret, Y_test_ret= build_dl_dataset_by_ts(ret_df, ts)\n",
    "X_train_ret = np.array(X_train_ret)\n",
    "X_train_ret = np.nan_to_num(X_train_ret)\n",
    "\n",
    "Y_train_ret = np.array(Y_train_ret)\n",
    "Y_train_ret = Y_train_ret.reshape(Y_train_ret.shape[0],Y_train_ret.shape[1],1)\n",
    "Y_train_ret = np.nan_to_num(Y_train_ret)\n",
    "\n",
    "\n",
    "X_test_ret = np.array(X_test_ret)\n",
    "X_test_ret = np.nan_to_num(X_test_ret)\n",
    "\n",
    "Y_test_ret = np.array(Y_test_ret)\n",
    "Y_test_ret = Y_test_ret.reshape(Y_test_ret.shape[0],Y_test_ret.shape[1],1)\n",
    "Y_test_ret = np.nan_to_num(Y_test_ret)"
   ]
  },
  {
   "cell_type": "code",
   "execution_count": 40,
   "metadata": {},
   "outputs": [
    {
     "name": "stdout",
     "output_type": "stream",
     "text": [
      "(2916, 3, 7, 7, 3) (2916, 3, 1) (324, 3, 7, 7, 3) (324, 3, 1)\n"
     ]
    }
   ],
   "source": [
    "print(X_train_ret.shape, Y_train_ret.shape, X_test_ret.shape, Y_test_ret.shape)"
   ]
  },
  {
   "cell_type": "code",
   "execution_count": 116,
   "metadata": {},
   "outputs": [
    {
     "name": "stdout",
     "output_type": "stream",
     "text": [
      "Finished 0 times\n",
      "Finished 10 times\n",
      "Finished 20 times\n"
     ]
    }
   ],
   "source": [
    "#ret_train_mape, ret_test_mape, ret_train_rmse, \\\n",
    "#ret_test_rmse, ret_train_error85, ret_test_error85 \\\n",
    "#    = get_performance(30, X_train_ret, Y_train_ret, X_test_ret, Y_test_ret)"
   ]
  },
  {
   "cell_type": "code",
   "execution_count": 57,
   "metadata": {},
   "outputs": [
    {
     "data": {
      "text/plain": [
       "<keras.engine.sequential.Sequential at 0x1a304706d8>"
      ]
     },
     "execution_count": 57,
     "metadata": {},
     "output_type": "execute_result"
    }
   ],
   "source": [
    "inputshapes = X_train_ret.shape[1:]\n",
    "cnnlstm = cnn_on_lstm_rms_model(64, 64, 0.1, 0.1, 16, inputshapes, mape_loss)\n",
    "cnnlstm.fit(X_train_ret, Y_train_ret, batch_size = 64,epochs=50,verbose=0) #\n",
    "cnnlstm"
   ]
  },
  {
   "cell_type": "code",
   "execution_count": 58,
   "metadata": {},
   "outputs": [],
   "source": [
    "cnnlstm.save('retail_DL.h5')\n",
    "del cnnlstm  "
   ]
  },
  {
   "cell_type": "code",
   "execution_count": 59,
   "metadata": {},
   "outputs": [],
   "source": [
    "cnnlstm = load_model('retail_DL.h5', custom_objects={'mape_loss': mape_loss})"
   ]
  },
  {
   "cell_type": "code",
   "execution_count": 60,
   "metadata": {},
   "outputs": [],
   "source": [
    "\n",
    "Y_train_ret_pred = cnnlstm.predict(X_train_ret)\n",
    "Y_test_ret_pred = cnnlstm.predict(X_test_ret)\n",
    "\n",
    "Y_train_ret_pred = Y_train_ret_pred[:,-1,:].flatten()\n",
    "Y_train_ret_true = Y_train_ret[:,-1,:].flatten()\n",
    "\n",
    "Y_test_ret_pred = Y_test_ret_pred[:,-1,:].flatten()\n",
    "Y_test_ret_true = Y_test_ret[:,-1,:].flatten()\n",
    "\n",
    "\n",
    "# mape train\n",
    "ret_train_mape = mape(Y_train_ret_pred, Y_train_ret_true)\n",
    "\n",
    "# mape test\n",
    "ret_test_mape = mape(Y_test_ret_pred, Y_test_ret_true)\n",
    "\n",
    "\n",
    "# rmse train\n",
    "ret_train_rmse = rmse(Y_train_ret_pred, Y_train_ret_true)\n",
    "\n",
    "# rmse test\n",
    "rettest_rmse = rmse(Y_test_ret_pred, Y_test_ret_true)"
   ]
  },
  {
   "cell_type": "code",
   "execution_count": 61,
   "metadata": {},
   "outputs": [
    {
     "name": "stdout",
     "output_type": "stream",
     "text": [
      "2.247980970993006\n"
     ]
    },
    {
     "data": {
      "image/png": "[encoded data removed]",
      "text/plain": [
       "<matplotlib.figure.Figure at 0x1a34911978>"
      ]
     },
     "metadata": {},
     "output_type": "display_data"
    },
    {
     "name": "stderr",
     "output_type": "stream",
     "text": [
      "/Users/michael.zhang/anaconda3/lib/python3.6/site-packages/numpy/core/fromnumeric.py:3194: RuntimeWarning: Degrees of freedom <= 0 for slice\n",
      "  **kwargs)\n",
      "/Users/michael.zhang/anaconda3/lib/python3.6/site-packages/numpy/core/_methods.py:127: RuntimeWarning: invalid value encountered in double_scalars\n",
      "  ret = ret.dtype.type(ret / rcount)\n"
     ]
    },
    {
     "data": {
      "text/plain": [
       "DescribeResult(nobs=1, minmax=(2.247980970993006, 2.247980970993006), mean=2.247980970993006, variance=nan, skewness=0.0, kurtosis=-3.0)"
      ]
     },
     "execution_count": 61,
     "metadata": {},
     "output_type": "execute_result"
    }
   ],
   "source": [
    "from matplotlib import pyplot as plt\n",
    "from scipy import stats\n",
    "#hos_train_mape_new = [hos_train_mape[i] for i in range(0,len(hos_train_mape),4)]\n",
    "print(np.mean(ret_train_mape))\n",
    "plt.hist(np.array(ret_train_mape), bins='auto')\n",
    "plt.show()\n",
    "stats.describe(ret_train_mape)"
   ]
  },
  {
   "cell_type": "code",
   "execution_count": 118,
   "metadata": {},
   "outputs": [
    {
     "name": "stdout",
     "output_type": "stream",
     "text": [
      "0.017073103026324855\n"
     ]
    },
    {
     "data": {
      "image/png": "[encoded data removed]",
      "text/plain": [
       "<matplotlib.figure.Figure at 0x1b71d1a550>"
      ]
     },
     "metadata": {},
     "output_type": "display_data"
    },
    {
     "data": {
      "text/plain": [
       "DescribeResult(nobs=30, minmax=(0.014938034071847898, 0.021209201438923266), mean=0.017073103026324855, variance=2.859474756956291e-06, skewness=1.0645876343194982, kurtosis=0.2586068551297718)"
      ]
     },
     "execution_count": 118,
     "metadata": {},
     "output_type": "execute_result"
    }
   ],
   "source": [
    "print(np.mean(ret_train_rmse))\n",
    "plt.hist(np.array(ret_train_rmse), bins='auto')\n",
    "plt.show()\n",
    "stats.describe(ret_train_rmse)"
   ]
  },
  {
   "cell_type": "code",
   "execution_count": 119,
   "metadata": {},
   "outputs": [
    {
     "data": {
      "text/plain": [
       "50.733333333333334"
      ]
     },
     "execution_count": 119,
     "metadata": {},
     "output_type": "execute_result"
    }
   ],
   "source": [
    "#t = hos_train_error85[3]\n",
    "#t[(t>0.1) | (t<-0.1)].shape, t.shape\n",
    "\n",
    "k = [ret_train_error85[i][(ret_train_error85[i]>0.1) | (ret_train_error85[i]<-0.1)].shape[0] for i in range(len(ret_train_error85))]\n",
    "\n",
    "np.mean(k)"
   ]
  },
  {
   "cell_type": "code",
   "execution_count": 120,
   "metadata": {},
   "outputs": [
    {
     "data": {
      "image/png": "[encoded data removed]",
      "text/plain": [
       "<matplotlib.figure.Figure at 0x1b4f3c59e8>"
      ]
     },
     "metadata": {},
     "output_type": "display_data"
    }
   ],
   "source": [
    "plt.hist(k, bins='auto')\n",
    "plt.show()"
   ]
  },
  {
   "cell_type": "code",
   "execution_count": 121,
   "metadata": {},
   "outputs": [],
   "source": [
    "cpik.dump(ret_train_mape, open( \"inside compare/ret/30/3_Retail_3channel_mape.pkl\", \"wb\" )) \n",
    "cpik.dump(ret_train_rmse, open( \"inside compare/ret/30/3_Retail_3channel_rmse.pkl\", \"wb\" )) \n",
    "cpik.dump(ret_train_error85, open( \"inside compare/ret/30/3_Retail_3channel_error85.pkl\", \"wb\" )) "
   ]
  },
  {
   "cell_type": "markdown",
   "metadata": {},
   "source": [
    "##  3- Building"
   ]
  },
  {
   "cell_type": "code",
   "execution_count": 62,
   "metadata": {},
   "outputs": [
    {
     "name": "stdout",
     "output_type": "stream",
     "text": [
      "(4498,) (7, 7, 3)\n"
     ]
    }
   ],
   "source": [
    "bud_df = pd.read_csv('1_building_13months.csv').iloc[:, 1:8]\n",
    "\n",
    "neighbours_index_image_arys = cpik.load(open(\"1_building_13months_3channel.pkl\", \"rb\" ))\n",
    "bud_df['neighbours_index_image'] = neighbours_index_image_arys.tolist()\n",
    "bud_df['neighbours_index_image'] = bud_df['neighbours_index_image'].apply(lambda x : np.array(x))\n",
    "print(bud_df['neighbours_index_image'].shape, bud_df['neighbours_index_image'].iloc[0].shape)\n",
    "ts = 3"
   ]
  },
  {
   "cell_type": "code",
   "execution_count": 63,
   "metadata": {},
   "outputs": [],
   "source": [
    "# Build up dateset\n",
    "X_train_bud, Y_train_bud, X_test_bud, Y_test_bud= build_dl_dataset_by_ts(bud_df, ts)\n",
    "X_train_bud = np.array(X_train_bud)\n",
    "X_train_bud = np.nan_to_num(X_train_bud)\n",
    "\n",
    "Y_train_bud = np.array(Y_train_bud)\n",
    "Y_train_bud = Y_train_bud.reshape(Y_train_bud.shape[0],Y_train_bud.shape[1],1)\n",
    "Y_train_bud = np.nan_to_num(Y_train_bud)\n",
    "\n",
    "\n",
    "X_test_bud = np.array(X_test_bud)\n",
    "X_test_bud = np.nan_to_num(X_test_bud)\n",
    "\n",
    "Y_test_bud = np.array(Y_test_bud)\n",
    "Y_test_bud = Y_test_bud.reshape(Y_test_bud.shape[0],Y_test_bud.shape[1],1)\n",
    "Y_test_bud = np.nan_to_num(Y_test_bud)"
   ]
  },
  {
   "cell_type": "code",
   "execution_count": 64,
   "metadata": {},
   "outputs": [
    {
     "name": "stdout",
     "output_type": "stream",
     "text": [
      "(3114, 3, 7, 7, 3) (3114, 3, 1) (346, 3, 7, 7, 3) (346, 3, 1)\n"
     ]
    }
   ],
   "source": [
    "print(X_train_bud.shape, Y_train_bud.shape, X_test_bud.shape, Y_test_bud.shape)"
   ]
  },
  {
   "cell_type": "code",
   "execution_count": 17,
   "metadata": {},
   "outputs": [
    {
     "name": "stdout",
     "output_type": "stream",
     "text": [
      "Finished 0 times\n",
      "Finished 10 times\n",
      "Finished 20 times\n"
     ]
    }
   ],
   "source": [
    "#bud_train_mape, bud_test_mape, bud_train_rmse,\\\n",
    "#bud_test_rmse, bud_train_error85, bud_test_error85 \\\n",
    "#       = get_performance(30, X_train_bud, Y_train_bud, X_test_bud, Y_test_bud)"
   ]
  },
  {
   "cell_type": "code",
   "execution_count": 65,
   "metadata": {},
   "outputs": [
    {
     "data": {
      "text/plain": [
       "<keras.engine.sequential.Sequential at 0x1a35ca45c0>"
      ]
     },
     "execution_count": 65,
     "metadata": {},
     "output_type": "execute_result"
    }
   ],
   "source": [
    "inputshapes = X_train_bud.shape[1:]\n",
    "cnnlstm = cnn_on_lstm_rms_model(64, 64, 0.1, 0.1, 64, inputshapes, mape_loss)\n",
    "cnnlstm.fit(X_train_bud, Y_train_bud, batch_size = 64,epochs=50,verbose=0) #\n",
    "cnnlstm"
   ]
  },
  {
   "cell_type": "code",
   "execution_count": 66,
   "metadata": {},
   "outputs": [],
   "source": [
    "cnnlstm.save('building_DL.h5')\n",
    "del cnnlstm"
   ]
  },
  {
   "cell_type": "code",
   "execution_count": 68,
   "metadata": {},
   "outputs": [],
   "source": [
    "cnnlstm = load_model('building_DL.h5', custom_objects={'mape_loss': mape_loss})"
   ]
  },
  {
   "cell_type": "code",
   "execution_count": 69,
   "metadata": {},
   "outputs": [],
   "source": [
    "Y_train_bud_pred = cnnlstm.predict(X_train_bud)\n",
    "Y_test_bud_pred = cnnlstm.predict(X_test_bud)\n",
    "\n",
    "Y_train_bud_pred = Y_train_bud_pred[:,-1,:].flatten()\n",
    "Y_train_bud_true = Y_train_bud[:,-1,:].flatten()\n",
    "Y_test_bud_pred = Y_test_bud_pred[:,-1,:].flatten()\n",
    "Y_test_bud_true = Y_test_bud[:,-1,:].flatten()\n",
    "\n",
    "\n",
    "# mape train\n",
    "\n",
    "bud_train_mape = mape(Y_train_bud_pred, Y_train_bud_true)\n",
    "\n",
    "# mape test\n",
    "bud_test_mape = mape(Y_test_bud_pred, Y_test_bud_true)\n",
    "\n",
    "\n",
    "# rmse train\n",
    "bud_train_rmse = rmse(Y_train_bud_pred, Y_train_bud_true)\n",
    "\n",
    "# rmse test\n",
    "bud_test_rmse = rmse(Y_test_bud_pred, Y_test_bud_true)"
   ]
  },
  {
   "cell_type": "code",
   "execution_count": 70,
   "metadata": {},
   "outputs": [
    {
     "name": "stdout",
     "output_type": "stream",
     "text": [
      "3.5594101863403353\n"
     ]
    },
    {
     "data": {
      "image/png": "[encoded data removed]",
      "text/plain": [
       "<matplotlib.figure.Figure at 0x1a3879eb70>"
      ]
     },
     "metadata": {},
     "output_type": "display_data"
    },
    {
     "name": "stderr",
     "output_type": "stream",
     "text": [
      "/Users/michael.zhang/anaconda3/lib/python3.6/site-packages/numpy/core/fromnumeric.py:3194: RuntimeWarning: Degrees of freedom <= 0 for slice\n",
      "  **kwargs)\n",
      "/Users/michael.zhang/anaconda3/lib/python3.6/site-packages/numpy/core/_methods.py:127: RuntimeWarning: invalid value encountered in double_scalars\n",
      "  ret = ret.dtype.type(ret / rcount)\n"
     ]
    },
    {
     "data": {
      "text/plain": [
       "DescribeResult(nobs=1, minmax=(3.5594101863403353, 3.5594101863403353), mean=3.5594101863403353, variance=nan, skewness=0.0, kurtosis=-3.0)"
      ]
     },
     "execution_count": 70,
     "metadata": {},
     "output_type": "execute_result"
    }
   ],
   "source": [
    "from matplotlib import pyplot as plt\n",
    "from scipy import stats\n",
    "#hos_train_mape_new = [hos_train_mape[i] for i in range(0,len(hos_train_mape),4)]\n",
    "print(np.mean(bud_train_mape))\n",
    "plt.hist(np.array(bud_train_mape), bins='auto')\n",
    "plt.show()\n",
    "stats.describe(bud_train_mape)"
   ]
  },
  {
   "cell_type": "code",
   "execution_count": 19,
   "metadata": {},
   "outputs": [
    {
     "name": "stdout",
     "output_type": "stream",
     "text": [
      "0.022616705626699703\n"
     ]
    },
    {
     "data": {
      "image/png": "[encoded data removed]",
      "text/plain": [
       "<matplotlib.figure.Figure at 0x1a5d8c9358>"
      ]
     },
     "metadata": {},
     "output_type": "display_data"
    },
    {
     "data": {
      "text/plain": [
       "DescribeResult(nobs=30, minmax=(0.020467789712377903, 0.02660914689354507), mean=0.022616705626699703, variance=2.817997834051327e-06, skewness=0.868002071435494, kurtosis=-0.5119462598036568)"
      ]
     },
     "execution_count": 19,
     "metadata": {},
     "output_type": "execute_result"
    }
   ],
   "source": [
    "print(np.mean(bud_train_rmse))\n",
    "plt.hist(np.array(bud_train_rmse), bins='auto')\n",
    "plt.show()\n",
    "stats.describe(bud_train_rmse)"
   ]
  },
  {
   "cell_type": "code",
   "execution_count": 20,
   "metadata": {},
   "outputs": [
    {
     "data": {
      "text/plain": [
       "60.333333333333336"
      ]
     },
     "execution_count": 20,
     "metadata": {},
     "output_type": "execute_result"
    }
   ],
   "source": [
    "\n",
    "k = [bud_train_error85[i][(bud_train_error85[i]>0.1) | (bud_train_error85[i]<-0.1)].shape[0] for i in range(len(bud_train_error85))]\n",
    "\n",
    "np.mean(k)"
   ]
  },
  {
   "cell_type": "code",
   "execution_count": 21,
   "metadata": {},
   "outputs": [
    {
     "data": {
      "image/png": "[encoded data removed]",
      "text/plain": [
       "<matplotlib.figure.Figure at 0x1a7194c780>"
      ]
     },
     "metadata": {},
     "output_type": "display_data"
    }
   ],
   "source": [
    "plt.hist(k, bins='auto')\n",
    "plt.show()"
   ]
  },
  {
   "cell_type": "code",
   "execution_count": 22,
   "metadata": {},
   "outputs": [],
   "source": [
    "cpik.dump(bud_train_mape, open( \"inside compare/bud/30/3_Retail_3channel_mape.pkl\", \"wb\" )) \n",
    "cpik.dump(bud_train_rmse, open( \"inside compare/bud/30/3_Retail_3channel_rmse.pkl\", \"wb\" )) \n",
    "cpik.dump(bud_train_error85, open( \"inside compare/bud/30/3_Retail_3channel_error85.pkl\", \"wb\" )) "
   ]
  },
  {
   "cell_type": "markdown",
   "metadata": {},
   "source": [
    "##  4- Prof"
   ]
  },
  {
   "cell_type": "code",
   "execution_count": 95,
   "metadata": {},
   "outputs": [
    {
     "name": "stdout",
     "output_type": "stream",
     "text": [
      "(4303,) (7, 7, 3)\n"
     ]
    }
   ],
   "source": [
    "bud_df = pd.read_csv('2_profession_13months.csv').iloc[:, 1:8]\n",
    "\n",
    "neighbours_index_image_arys = cpik.load(open(\"2_profession_13months_3channel.pkl\", \"rb\" ))\n",
    "bud_df['neighbours_index_image'] = neighbours_index_image_arys.tolist()\n",
    "bud_df['neighbours_index_image'] = bud_df['neighbours_index_image'].apply(lambda x : np.array(x))\n",
    "print(bud_df['neighbours_index_image'].shape, bud_df['neighbours_index_image'].iloc[0].shape)\n",
    "ts = 3"
   ]
  },
  {
   "cell_type": "code",
   "execution_count": 96,
   "metadata": {},
   "outputs": [],
   "source": [
    "# Build up dateset\n",
    "X_train_bud, Y_train_bud, X_test_bud, Y_test_bud= build_dl_dataset_by_ts(bud_df, ts)\n",
    "X_train_bud = np.array(X_train_bud)\n",
    "X_train_bud = np.nan_to_num(X_train_bud)\n",
    "\n",
    "Y_train_bud = np.array(Y_train_bud)\n",
    "Y_train_bud = Y_train_bud.reshape(Y_train_bud.shape[0],Y_train_bud.shape[1],1)\n",
    "Y_train_bud = np.nan_to_num(Y_train_bud)\n",
    "\n",
    "\n",
    "X_test_bud = np.array(X_test_bud)\n",
    "X_test_bud = np.nan_to_num(X_test_bud)\n",
    "\n",
    "Y_test_bud = np.array(Y_test_bud)\n",
    "Y_test_bud = Y_test_bud.reshape(Y_test_bud.shape[0],Y_test_bud.shape[1],1)\n",
    "Y_test_bud = np.nan_to_num(Y_test_bud)"
   ]
  },
  {
   "cell_type": "code",
   "execution_count": 97,
   "metadata": {},
   "outputs": [
    {
     "name": "stdout",
     "output_type": "stream",
     "text": [
      "(2979, 3, 7, 7, 3) (2979, 3, 1) (331, 3, 7, 7, 3) (331, 3, 1)\n"
     ]
    }
   ],
   "source": [
    "print(X_train_bud.shape, Y_train_bud.shape, X_test_bud.shape, Y_test_bud.shape)"
   ]
  },
  {
   "cell_type": "code",
   "execution_count": 98,
   "metadata": {},
   "outputs": [
    {
     "data": {
      "text/plain": [
       "<keras.engine.sequential.Sequential at 0x1a3e67fa20>"
      ]
     },
     "execution_count": 98,
     "metadata": {},
     "output_type": "execute_result"
    }
   ],
   "source": [
    "inputshapes = X_train_bud.shape[1:]\n",
    "cnnlstm = cnn_on_lstm_rms_model(128, 64, 0.1, 0.1, 64, inputshapes, mape_loss)\n",
    "cnnlstm.fit(X_train_bud, Y_train_bud, batch_size = 64,epochs=50,verbose=0) #\n",
    "cnnlstm"
   ]
  },
  {
   "cell_type": "code",
   "execution_count": 99,
   "metadata": {},
   "outputs": [],
   "source": [
    "cnnlstm.save('prof_DL.h5')\n",
    "del cnnlstm"
   ]
  },
  {
   "cell_type": "code",
   "execution_count": 100,
   "metadata": {},
   "outputs": [],
   "source": [
    "cnnlstm = load_model('prof_DL.h5', custom_objects={'mape_loss': mape_loss})"
   ]
  },
  {
   "cell_type": "code",
   "execution_count": 101,
   "metadata": {},
   "outputs": [],
   "source": [
    "Y_train_bud_pred = cnnlstm.predict(X_train_bud)\n",
    "Y_test_bud_pred = cnnlstm.predict(X_test_bud)\n",
    "\n",
    "Y_train_bud_pred = Y_train_bud_pred[:,-1,:].flatten()\n",
    "Y_train_bud_true = Y_train_bud[:,-1,:].flatten()\n",
    "Y_test_bud_pred = Y_test_bud_pred[:,-1,:].flatten()\n",
    "Y_test_bud_true = Y_test_bud[:,-1,:].flatten()\n",
    "\n",
    "\n",
    "# mape train\n",
    "\n",
    "bud_train_mape = mape(Y_train_bud_pred, Y_train_bud_true)\n",
    "\n",
    "# mape test\n",
    "bud_test_mape = mape(Y_test_bud_pred, Y_test_bud_true)\n",
    "\n",
    "\n",
    "# rmse train\n",
    "bud_train_rmse = rmse(Y_train_bud_pred, Y_train_bud_true)\n",
    "\n",
    "# rmse test\n",
    "bud_test_rmse = rmse(Y_test_bud_pred, Y_test_bud_true)"
   ]
  },
  {
   "cell_type": "code",
   "execution_count": 102,
   "metadata": {},
   "outputs": [
    {
     "name": "stdout",
     "output_type": "stream",
     "text": [
      "4.257970441370843\n"
     ]
    },
    {
     "data": {
      "image/png": "[encoded data removed]",
      "text/plain": [
       "<matplotlib.figure.Figure at 0x1a429177b8>"
      ]
     },
     "metadata": {},
     "output_type": "display_data"
    },
    {
     "name": "stderr",
     "output_type": "stream",
     "text": [
      "/Users/michael.zhang/anaconda3/lib/python3.6/site-packages/numpy/core/fromnumeric.py:3194: RuntimeWarning: Degrees of freedom <= 0 for slice\n",
      "  **kwargs)\n",
      "/Users/michael.zhang/anaconda3/lib/python3.6/site-packages/numpy/core/_methods.py:127: RuntimeWarning: invalid value encountered in double_scalars\n",
      "  ret = ret.dtype.type(ret / rcount)\n"
     ]
    },
    {
     "data": {
      "text/plain": [
       "DescribeResult(nobs=1, minmax=(4.257970441370843, 4.257970441370843), mean=4.257970441370843, variance=nan, skewness=0.0, kurtosis=-3.0)"
      ]
     },
     "execution_count": 102,
     "metadata": {},
     "output_type": "execute_result"
    }
   ],
   "source": [
    "from matplotlib import pyplot as plt\n",
    "from scipy import stats\n",
    "#hos_train_mape_new = [hos_train_mape[i] for i in range(0,len(hos_train_mape),4)]\n",
    "print(np.mean(bud_train_mape))\n",
    "plt.hist(np.array(bud_train_mape), bins='auto')\n",
    "plt.show()\n",
    "stats.describe(bud_train_mape)"
   ]
  },
  {
   "cell_type": "code",
   "execution_count": null,
   "metadata": {},
   "outputs": [],
   "source": []
  }
 ],
 "metadata": {
  "kernelspec": {
   "display_name": "Python 3",
   "language": "python",
   "name": "python3"
  },
  "language_info": {
   "codemirror_mode": {
    "name": "ipython",
    "version": 3
   },
   "file_extension": ".py",
   "mimetype": "text/x-python",
   "name": "python",
   "nbconvert_exporter": "python",
   "pygments_lexer": "ipython3",
   "version": "3.6.4"
  }
 },
 "nbformat": 4,
 "nbformat_minor": 2
}
